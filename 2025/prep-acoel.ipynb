{
 "cells": [
  {
   "cell_type": "code",
   "execution_count": null,
   "id": "1cede804-32ee-4ff7-9749-f5b14f6f3a5e",
   "metadata": {},
   "outputs": [],
   "source": [
    "import pandas as pd\n",
    "import numpy as np\n",
    "import scanpy as sc\n",
    "\n",
    "import matplotlib.pyplot as plt\n",
    "import seaborn as sns\n",
    "\n",
    "from anticor_features.anticor_features import get_anti_cor_genes\n",
    "import topo as tp\n",
    "from topo.tpgraph.intrinsic_dim import IntrinsicDim"
   ]
  },
  {
   "cell_type": "code",
   "execution_count": null,
   "id": "9d169ced-f63a-4805-9745-7e9e12913cd1",
   "metadata": {},
   "outputs": [
    {
     "name": "stdout",
     "output_type": "stream",
     "text": [
      "2025-02-28 11:38:10.337077\n"
     ]
    }
   ],
   "source": [
    "import datetime\n",
    "print(datetime.datetime.now())"
   ]
  },
  {
   "cell_type": "code",
   "execution_count": null,
   "id": "0cde3a66-c0b1-4329-a632-e3f3eee355c9",
   "metadata": {},
   "outputs": [],
   "source": [
    "adata = sc.read_mtx('./data/acoel/GSE154049_Sc_Isopu_aggr_matrix.mtx.gz')"
   ]
  },
  {
   "cell_type": "code",
   "execution_count": null,
   "id": "21800541-cc17-4de5-b4d2-c667e93b43e3",
   "metadata": {},
   "outputs": [
    {
     "data": {
      "text/plain": [
       "AnnData object with n_obs × n_vars = 23786 × 7532160"
      ]
     },
     "execution_count": null,
     "metadata": {},
     "output_type": "execute_result"
    }
   ],
   "source": [
    "adata"
   ]
  },
  {
   "cell_type": "code",
   "execution_count": null,
   "id": "a8e07249-1daf-42d7-b4a3-c1679fb407a4",
   "metadata": {},
   "outputs": [],
   "source": [
    "sc.pp.filter_cells(adata, min_genes=200)\n",
    "sc.pp.filter_cells(adata, max_genes=2000)"
   ]
  },
  {
   "cell_type": "code",
   "execution_count": null,
   "id": "1b6ef02f-1a72-46eb-a369-6f9bc634eb15",
   "metadata": {},
   "outputs": [
    {
     "data": {
      "text/plain": [
       "AnnData object with n_obs × n_vars = 8500 × 7532160\n",
       "    obs: 'n_genes'"
      ]
     },
     "execution_count": null,
     "metadata": {},
     "output_type": "execute_result"
    }
   ],
   "source": [
    "adata"
   ]
  }
 ],
 "metadata": {
  "kernelspec": {
   "display_name": "python3",
   "language": "python",
   "name": "python3"
  }
 },
 "nbformat": 4,
 "nbformat_minor": 5
}
