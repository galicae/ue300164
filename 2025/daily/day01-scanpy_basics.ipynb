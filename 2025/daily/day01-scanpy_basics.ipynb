{
 "cells": [
  {
   "cell_type": "code",
   "execution_count": null,
   "id": "894a40d4-2b92-4ebd-8d11-9ad75f2029e4",
   "metadata": {},
   "outputs": [],
   "source": [
    "import scanpy as sc\n",
    "import numpy as np\n",
    "\n",
    "import matplotlib.pyplot as plt"
   ]
  },
  {
   "cell_type": "code",
   "execution_count": null,
   "id": "3a3ce0e7-8746-4ec9-bc91-f357cfd3c30a",
   "metadata": {},
   "outputs": [
    {
     "name": "stderr",
     "output_type": "stream",
     "text": [
      "/opt/homebrew/Caskroom/mambaforge/base/envs/ascc24/lib/python3.9/site-packages/anndata/__init__.py:55: FutureWarning: `anndata.read` is deprecated, use `anndata.read_h5ad` instead. `ad.read` will be removed in mid 2024.\n",
      "  warnings.warn(\n"
     ]
    }
   ],
   "source": [
    "adata = sc.datasets.pbmc3k()"
   ]
  },
  {
   "cell_type": "code",
   "execution_count": null,
   "id": "d193fd33-4ee3-4eb9-9091-b9edba8d102d",
   "metadata": {},
   "outputs": [
    {
     "data": {
      "text/plain": [
       "AnnData object with n_obs × n_vars = 2700 × 32738\n",
       "    var: 'gene_ids'"
      ]
     },
     "execution_count": null,
     "metadata": {},
     "output_type": "execute_result"
    }
   ],
   "source": [
    "adata"
   ]
  },
  {
   "cell_type": "code",
   "execution_count": null,
   "id": "a148aef2-b629-48b9-9861-8c116130f339",
   "metadata": {},
   "outputs": [
    {
     "data": {
      "text/plain": [
       "<2700x32738 sparse matrix of type '<class 'numpy.float32'>'\n",
       "\twith 2286884 stored elements in Compressed Sparse Row format>"
      ]
     },
     "execution_count": null,
     "metadata": {},
     "output_type": "execute_result"
    }
   ],
   "source": [
    "adata.X"
   ]
  },
  {
   "cell_type": "markdown",
   "id": "8257a2ff-f143-4d68-8e17-7c91e25e8012",
   "metadata": {},
   "source": [
    "This is a sparse matrix - so \"almost empty\". Just how empty is it really?"
   ]
  },
  {
   "cell_type": "code",
   "execution_count": null,
   "id": "c24a75b6-ff07-4589-ac83-d646da789bed",
   "metadata": {},
   "outputs": [
    {
     "name": "stderr",
     "output_type": "stream",
     "text": [
      "/opt/homebrew/Caskroom/mambaforge/base/envs/ascc24/lib/python3.9/site-packages/IPython/core/interactiveshell.py:3550: SparseEfficiencyWarning: Comparing a sparse matrix with 0 using == is inefficient, try using != instead.\n",
      "  exec(code_obj, self.user_global_ns, self.user_ns)\n"
     ]
    }
   ],
   "source": [
    "total_positions = 2700 * 32738\n",
    "empty_positions = np.sum(adata.X == 0)"
   ]
  },
  {
   "cell_type": "code",
   "execution_count": null,
   "id": "740c3f77-091e-447d-a727-d8121d734332",
   "metadata": {},
   "outputs": [
    {
     "data": {
      "text/plain": [
       "97.41281057464086"
      ]
     },
     "execution_count": null,
     "metadata": {},
     "output_type": "execute_result"
    }
   ],
   "source": [
    "empty_positions / total_positions * 100"
   ]
  },
  {
   "cell_type": "code",
   "execution_count": null,
   "id": "7607713f-2e3d-406c-a1fc-405681830b6c",
   "metadata": {},
   "outputs": [
    {
     "data": {
      "text/plain": [
       "419.0"
      ]
     },
     "execution_count": null,
     "metadata": {},
     "output_type": "execute_result"
    }
   ],
   "source": [
    "adata.X.max()"
   ]
  },
  {
   "cell_type": "code",
   "execution_count": null,
   "id": "ea0f243b-0212-465e-896b-5ea4a999c769",
   "metadata": {},
   "outputs": [
    {
     "data": {
      "text/plain": [
       "6390631.0"
      ]
     },
     "execution_count": null,
     "metadata": {},
     "output_type": "execute_result"
    }
   ],
   "source": [
    "adata.X.sum()"
   ]
  },
  {
   "cell_type": "markdown",
   "id": "70242fb9-abc6-4682-bf39-7838352dbee6",
   "metadata": {},
   "source": [
    "Now let's have a look at the gene IDs"
   ]
  },
  {
   "cell_type": "code",
   "execution_count": null,
   "id": "c8d1e3bd-cba3-41d6-9038-bb7e9a30271e",
   "metadata": {},
   "outputs": [
    {
     "data": {
      "text/html": [
       "<div>\n",
       "<style scoped>\n",
       "    .dataframe tbody tr th:only-of-type {\n",
       "        vertical-align: middle;\n",
       "    }\n",
       "\n",
       "    .dataframe tbody tr th {\n",
       "        vertical-align: top;\n",
       "    }\n",
       "\n",
       "    .dataframe thead th {\n",
       "        text-align: right;\n",
       "    }\n",
       "</style>\n",
       "<table border=\"1\" class=\"dataframe\">\n",
       "  <thead>\n",
       "    <tr style=\"text-align: right;\">\n",
       "      <th></th>\n",
       "      <th>gene_ids</th>\n",
       "    </tr>\n",
       "    <tr>\n",
       "      <th>index</th>\n",
       "      <th></th>\n",
       "    </tr>\n",
       "  </thead>\n",
       "  <tbody>\n",
       "    <tr>\n",
       "      <th>MIR1302-10</th>\n",
       "      <td>ENSG00000243485</td>\n",
       "    </tr>\n",
       "    <tr>\n",
       "      <th>FAM138A</th>\n",
       "      <td>ENSG00000237613</td>\n",
       "    </tr>\n",
       "    <tr>\n",
       "      <th>OR4F5</th>\n",
       "      <td>ENSG00000186092</td>\n",
       "    </tr>\n",
       "    <tr>\n",
       "      <th>RP11-34P13.7</th>\n",
       "      <td>ENSG00000238009</td>\n",
       "    </tr>\n",
       "    <tr>\n",
       "      <th>RP11-34P13.8</th>\n",
       "      <td>ENSG00000239945</td>\n",
       "    </tr>\n",
       "    <tr>\n",
       "      <th>...</th>\n",
       "      <td>...</td>\n",
       "    </tr>\n",
       "    <tr>\n",
       "      <th>AC145205.1</th>\n",
       "      <td>ENSG00000215635</td>\n",
       "    </tr>\n",
       "    <tr>\n",
       "      <th>BAGE5</th>\n",
       "      <td>ENSG00000268590</td>\n",
       "    </tr>\n",
       "    <tr>\n",
       "      <th>CU459201.1</th>\n",
       "      <td>ENSG00000251180</td>\n",
       "    </tr>\n",
       "    <tr>\n",
       "      <th>AC002321.2</th>\n",
       "      <td>ENSG00000215616</td>\n",
       "    </tr>\n",
       "    <tr>\n",
       "      <th>AC002321.1</th>\n",
       "      <td>ENSG00000215611</td>\n",
       "    </tr>\n",
       "  </tbody>\n",
       "</table>\n",
       "<p>32738 rows × 1 columns</p>\n",
       "</div>"
      ],
      "text/plain": [
       "                     gene_ids\n",
       "index                        \n",
       "MIR1302-10    ENSG00000243485\n",
       "FAM138A       ENSG00000237613\n",
       "OR4F5         ENSG00000186092\n",
       "RP11-34P13.7  ENSG00000238009\n",
       "RP11-34P13.8  ENSG00000239945\n",
       "...                       ...\n",
       "AC145205.1    ENSG00000215635\n",
       "BAGE5         ENSG00000268590\n",
       "CU459201.1    ENSG00000251180\n",
       "AC002321.2    ENSG00000215616\n",
       "AC002321.1    ENSG00000215611\n",
       "\n",
       "[32738 rows x 1 columns]"
      ]
     },
     "execution_count": null,
     "metadata": {},
     "output_type": "execute_result"
    }
   ],
   "source": [
    "adata.var"
   ]
  },
  {
   "cell_type": "markdown",
   "id": "0f833dff-6dd6-4a65-82eb-3fa08defe92f",
   "metadata": {},
   "source": [
    "Now let's load the processed object and compare:"
   ]
  },
  {
   "cell_type": "code",
   "execution_count": null,
   "id": "fbe0fb1b-b15e-4003-b854-06917bac250d",
   "metadata": {},
   "outputs": [],
   "source": [
    "processed = sc.datasets.pbmc3k_processed()"
   ]
  },
  {
   "cell_type": "code",
   "execution_count": null,
   "id": "ba72bf75-e77f-48a4-8106-bde17069804d",
   "metadata": {},
   "outputs": [
    {
     "data": {
      "text/plain": [
       "AnnData object with n_obs × n_vars = 2638 × 1838\n",
       "    obs: 'n_genes', 'percent_mito', 'n_counts', 'louvain'\n",
       "    var: 'n_cells'\n",
       "    uns: 'draw_graph', 'louvain', 'louvain_colors', 'neighbors', 'pca', 'rank_genes_groups'\n",
       "    obsm: 'X_pca', 'X_tsne', 'X_umap', 'X_draw_graph_fr'\n",
       "    varm: 'PCs'\n",
       "    obsp: 'distances', 'connectivities'"
      ]
     },
     "execution_count": null,
     "metadata": {},
     "output_type": "execute_result"
    }
   ],
   "source": [
    "processed"
   ]
  },
  {
   "cell_type": "code",
   "execution_count": null,
   "id": "c3332f28-d7ab-4bbe-9df4-0b9a37085459",
   "metadata": {},
   "outputs": [],
   "source": []
  },
  {
   "cell_type": "code",
   "execution_count": null,
   "id": "ca56418d-4473-461d-9ca2-6c6ba378a5a2",
   "metadata": {},
   "outputs": [],
   "source": []
  },
  {
   "cell_type": "code",
   "execution_count": null,
   "id": "d6993681-e8b6-4648-8238-39475e2f0a12",
   "metadata": {},
   "outputs": [],
   "source": []
  },
  {
   "cell_type": "code",
   "execution_count": null,
   "id": "7581160d-1889-4e29-8076-8875a9fa514f",
   "metadata": {},
   "outputs": [
    {
     "data": {
      "text/plain": [
       "Index(['INMT-FAM188B', 'MT-ND1', 'MT-ND2', 'MT-CO1', 'MT-CO2', 'MT-ATP8',\n",
       "       'MT-ATP6', 'MT-CO3', 'MT-ND3', 'MT-ND4L', 'MT-ND4', 'MT-ND5', 'MT-ND6',\n",
       "       'MT-CYB'],\n",
       "      dtype='object', name='index')"
      ]
     },
     "execution_count": null,
     "metadata": {},
     "output_type": "execute_result"
    }
   ],
   "source": [
    "keep = adata.var.index.str.contains('mt-', case=False)\n",
    "adata.var.index[keep]"
   ]
  },
  {
   "cell_type": "code",
   "execution_count": null,
   "id": "e911c033-19c1-4123-a5c8-6b64bb593efd",
   "metadata": {},
   "outputs": [],
   "source": [
    "mitochondrial = ['MT-ND1', 'MT-ND2', 'MT-CO1', 'MT-CO2', 'MT-ATP8',\n",
    "       'MT-ATP6', 'MT-CO3', 'MT-ND3', 'MT-ND4L', 'MT-ND4', 'MT-ND5', 'MT-ND6',\n",
    "       'MT-CYB']"
   ]
  },
  {
   "cell_type": "code",
   "execution_count": null,
   "id": "19602cef-f6aa-4320-a20a-fcfbc1e209de",
   "metadata": {},
   "outputs": [],
   "source": [
    "adata.var['mito'] = adata.var.index.isin(mitochondrial)"
   ]
  },
  {
   "cell_type": "code",
   "execution_count": null,
   "id": "b0696e96-686d-4cea-8d83-d64129904be0",
   "metadata": {},
   "outputs": [
    {
     "data": {
      "text/html": [
       "<div>\n",
       "<style scoped>\n",
       "    .dataframe tbody tr th:only-of-type {\n",
       "        vertical-align: middle;\n",
       "    }\n",
       "\n",
       "    .dataframe tbody tr th {\n",
       "        vertical-align: top;\n",
       "    }\n",
       "\n",
       "    .dataframe thead th {\n",
       "        text-align: right;\n",
       "    }\n",
       "</style>\n",
       "<table border=\"1\" class=\"dataframe\">\n",
       "  <thead>\n",
       "    <tr style=\"text-align: right;\">\n",
       "      <th></th>\n",
       "      <th>gene_ids</th>\n",
       "      <th>mito</th>\n",
       "    </tr>\n",
       "    <tr>\n",
       "      <th>index</th>\n",
       "      <th></th>\n",
       "      <th></th>\n",
       "    </tr>\n",
       "  </thead>\n",
       "  <tbody>\n",
       "    <tr>\n",
       "      <th>MIR1302-10</th>\n",
       "      <td>ENSG00000243485</td>\n",
       "      <td>False</td>\n",
       "    </tr>\n",
       "    <tr>\n",
       "      <th>FAM138A</th>\n",
       "      <td>ENSG00000237613</td>\n",
       "      <td>False</td>\n",
       "    </tr>\n",
       "    <tr>\n",
       "      <th>OR4F5</th>\n",
       "      <td>ENSG00000186092</td>\n",
       "      <td>False</td>\n",
       "    </tr>\n",
       "    <tr>\n",
       "      <th>RP11-34P13.7</th>\n",
       "      <td>ENSG00000238009</td>\n",
       "      <td>False</td>\n",
       "    </tr>\n",
       "    <tr>\n",
       "      <th>RP11-34P13.8</th>\n",
       "      <td>ENSG00000239945</td>\n",
       "      <td>False</td>\n",
       "    </tr>\n",
       "    <tr>\n",
       "      <th>...</th>\n",
       "      <td>...</td>\n",
       "      <td>...</td>\n",
       "    </tr>\n",
       "    <tr>\n",
       "      <th>AC145205.1</th>\n",
       "      <td>ENSG00000215635</td>\n",
       "      <td>False</td>\n",
       "    </tr>\n",
       "    <tr>\n",
       "      <th>BAGE5</th>\n",
       "      <td>ENSG00000268590</td>\n",
       "      <td>False</td>\n",
       "    </tr>\n",
       "    <tr>\n",
       "      <th>CU459201.1</th>\n",
       "      <td>ENSG00000251180</td>\n",
       "      <td>False</td>\n",
       "    </tr>\n",
       "    <tr>\n",
       "      <th>AC002321.2</th>\n",
       "      <td>ENSG00000215616</td>\n",
       "      <td>False</td>\n",
       "    </tr>\n",
       "    <tr>\n",
       "      <th>AC002321.1</th>\n",
       "      <td>ENSG00000215611</td>\n",
       "      <td>False</td>\n",
       "    </tr>\n",
       "  </tbody>\n",
       "</table>\n",
       "<p>32738 rows × 2 columns</p>\n",
       "</div>"
      ],
      "text/plain": [
       "                     gene_ids   mito\n",
       "index                               \n",
       "MIR1302-10    ENSG00000243485  False\n",
       "FAM138A       ENSG00000237613  False\n",
       "OR4F5         ENSG00000186092  False\n",
       "RP11-34P13.7  ENSG00000238009  False\n",
       "RP11-34P13.8  ENSG00000239945  False\n",
       "...                       ...    ...\n",
       "AC145205.1    ENSG00000215635  False\n",
       "BAGE5         ENSG00000268590  False\n",
       "CU459201.1    ENSG00000251180  False\n",
       "AC002321.2    ENSG00000215616  False\n",
       "AC002321.1    ENSG00000215611  False\n",
       "\n",
       "[32738 rows x 2 columns]"
      ]
     },
     "execution_count": null,
     "metadata": {},
     "output_type": "execute_result"
    }
   ],
   "source": [
    "adata.var"
   ]
  },
  {
   "cell_type": "code",
   "execution_count": null,
   "id": "f9e382e4-8e34-4c76-b43e-5d4995cafef6",
   "metadata": {},
   "outputs": [
    {
     "data": {
      "text/plain": [
       "Index(['RPL22', 'RPL11', 'RPS6KA1', 'RPS8', 'RPL5', 'RPS27', 'RPS10P7',\n",
       "       'RPS6KC1', 'RPS7', 'RPS27A',\n",
       "       ...\n",
       "       'RPL18', 'RPL13A', 'RPS11', 'RPS9', 'RPL28', 'RPS5', 'RPS4Y1', 'RPS4Y2',\n",
       "       'RPL3', 'RPS19BP1'],\n",
       "      dtype='object', name='index', length=106)"
      ]
     },
     "execution_count": null,
     "metadata": {},
     "output_type": "execute_result"
    }
   ],
   "source": [
    "rps = adata.var.index.str.contains('^RPS')\n",
    "rpl = adata.var.index.str.contains('^RPL')\n",
    "keep = rps | rpl\n",
    "adata.var.index[keep]"
   ]
  },
  {
   "cell_type": "code",
   "execution_count": null,
   "id": "7f647cca-f87b-4379-88db-58abf2159666",
   "metadata": {},
   "outputs": [],
   "source": [
    "adata.var['ribo'] = rps | rpl"
   ]
  },
  {
   "cell_type": "code",
   "execution_count": null,
   "id": "28398484-9c0f-4760-a7aa-693672b830a7",
   "metadata": {},
   "outputs": [
    {
     "data": {
      "text/plain": [
       "Index(['MRPL20', 'MRPL37', 'MRPL9', 'MRPL24', 'MRPL55', 'MRPL33', 'MRPL53',\n",
       "       'MRPL19', 'MRPL35', 'MRPL30', 'MRPL30-1', 'MRPL44', 'MRPL3', 'MRPL47',\n",
       "       'MRPL1', 'MRPL36', 'MRPL22', 'MRPL2', 'MRPL14', 'MRPL18', 'MRPL32',\n",
       "       'MRPL15', 'MRPL13', 'MRPL50', 'MRPL41', 'MRPL43', 'MRPL23',\n",
       "       'MRPL23-AS1', 'MRPL17', 'MRPL16', 'MRPL49', 'MRPL11', 'MRPL21',\n",
       "       'MRPL48', 'MRPL51', 'MRPL42', 'MRPL52', 'MRPL46', 'MRPL28', 'MRPL45',\n",
       "       'MRPL10', 'MRPL27', 'MRPL38', 'MRPL12', 'MRPL54', 'MRPL4', 'MRPL34',\n",
       "       'MRPL40', 'MRPL39'],\n",
       "      dtype='object', name='index')"
      ]
     },
     "execution_count": null,
     "metadata": {},
     "output_type": "execute_result"
    }
   ],
   "source": [
    "keep = adata.var.index.str.contains('^MRPL')\n",
    "adata.var.index[keep]"
   ]
  },
  {
   "cell_type": "code",
   "execution_count": null,
   "id": "f9893806-ae8d-4516-9df9-dda619193ff5",
   "metadata": {},
   "outputs": [],
   "source": [
    "adata.var['mrpl'] = adata.var.index.str.contains('^MRPL')"
   ]
  },
  {
   "cell_type": "code",
   "execution_count": null,
   "id": "5437bf38-ece5-4335-ae65-a3ec43938cfa",
   "metadata": {},
   "outputs": [
    {
     "data": {
      "text/html": [
       "<div>\n",
       "<style scoped>\n",
       "    .dataframe tbody tr th:only-of-type {\n",
       "        vertical-align: middle;\n",
       "    }\n",
       "\n",
       "    .dataframe tbody tr th {\n",
       "        vertical-align: top;\n",
       "    }\n",
       "\n",
       "    .dataframe thead th {\n",
       "        text-align: right;\n",
       "    }\n",
       "</style>\n",
       "<table border=\"1\" class=\"dataframe\">\n",
       "  <thead>\n",
       "    <tr style=\"text-align: right;\">\n",
       "      <th></th>\n",
       "      <th>gene_ids</th>\n",
       "      <th>mito</th>\n",
       "      <th>ribo</th>\n",
       "      <th>mrpl</th>\n",
       "    </tr>\n",
       "    <tr>\n",
       "      <th>index</th>\n",
       "      <th></th>\n",
       "      <th></th>\n",
       "      <th></th>\n",
       "      <th></th>\n",
       "    </tr>\n",
       "  </thead>\n",
       "  <tbody>\n",
       "    <tr>\n",
       "      <th>MIR1302-10</th>\n",
       "      <td>ENSG00000243485</td>\n",
       "      <td>False</td>\n",
       "      <td>False</td>\n",
       "      <td>False</td>\n",
       "    </tr>\n",
       "    <tr>\n",
       "      <th>FAM138A</th>\n",
       "      <td>ENSG00000237613</td>\n",
       "      <td>False</td>\n",
       "      <td>False</td>\n",
       "      <td>False</td>\n",
       "    </tr>\n",
       "    <tr>\n",
       "      <th>OR4F5</th>\n",
       "      <td>ENSG00000186092</td>\n",
       "      <td>False</td>\n",
       "      <td>False</td>\n",
       "      <td>False</td>\n",
       "    </tr>\n",
       "    <tr>\n",
       "      <th>RP11-34P13.7</th>\n",
       "      <td>ENSG00000238009</td>\n",
       "      <td>False</td>\n",
       "      <td>False</td>\n",
       "      <td>False</td>\n",
       "    </tr>\n",
       "    <tr>\n",
       "      <th>RP11-34P13.8</th>\n",
       "      <td>ENSG00000239945</td>\n",
       "      <td>False</td>\n",
       "      <td>False</td>\n",
       "      <td>False</td>\n",
       "    </tr>\n",
       "    <tr>\n",
       "      <th>...</th>\n",
       "      <td>...</td>\n",
       "      <td>...</td>\n",
       "      <td>...</td>\n",
       "      <td>...</td>\n",
       "    </tr>\n",
       "    <tr>\n",
       "      <th>AC145205.1</th>\n",
       "      <td>ENSG00000215635</td>\n",
       "      <td>False</td>\n",
       "      <td>False</td>\n",
       "      <td>False</td>\n",
       "    </tr>\n",
       "    <tr>\n",
       "      <th>BAGE5</th>\n",
       "      <td>ENSG00000268590</td>\n",
       "      <td>False</td>\n",
       "      <td>False</td>\n",
       "      <td>False</td>\n",
       "    </tr>\n",
       "    <tr>\n",
       "      <th>CU459201.1</th>\n",
       "      <td>ENSG00000251180</td>\n",
       "      <td>False</td>\n",
       "      <td>False</td>\n",
       "      <td>False</td>\n",
       "    </tr>\n",
       "    <tr>\n",
       "      <th>AC002321.2</th>\n",
       "      <td>ENSG00000215616</td>\n",
       "      <td>False</td>\n",
       "      <td>False</td>\n",
       "      <td>False</td>\n",
       "    </tr>\n",
       "    <tr>\n",
       "      <th>AC002321.1</th>\n",
       "      <td>ENSG00000215611</td>\n",
       "      <td>False</td>\n",
       "      <td>False</td>\n",
       "      <td>False</td>\n",
       "    </tr>\n",
       "  </tbody>\n",
       "</table>\n",
       "<p>32738 rows × 4 columns</p>\n",
       "</div>"
      ],
      "text/plain": [
       "                     gene_ids   mito   ribo   mrpl\n",
       "index                                             \n",
       "MIR1302-10    ENSG00000243485  False  False  False\n",
       "FAM138A       ENSG00000237613  False  False  False\n",
       "OR4F5         ENSG00000186092  False  False  False\n",
       "RP11-34P13.7  ENSG00000238009  False  False  False\n",
       "RP11-34P13.8  ENSG00000239945  False  False  False\n",
       "...                       ...    ...    ...    ...\n",
       "AC145205.1    ENSG00000215635  False  False  False\n",
       "BAGE5         ENSG00000268590  False  False  False\n",
       "CU459201.1    ENSG00000251180  False  False  False\n",
       "AC002321.2    ENSG00000215616  False  False  False\n",
       "AC002321.1    ENSG00000215611  False  False  False\n",
       "\n",
       "[32738 rows x 4 columns]"
      ]
     },
     "execution_count": null,
     "metadata": {},
     "output_type": "execute_result"
    }
   ],
   "source": [
    "adata.var"
   ]
  },
  {
   "cell_type": "markdown",
   "id": "143edd64-e892-43f1-aec2-13fd4ff1c4d1",
   "metadata": {},
   "source": [
    "These are indicators _per gene_, but we would like to see how much of these groups are expressed _per cell_. To do this, we will use a convenient function included with ScanPy:"
   ]
  },
  {
   "cell_type": "code",
   "execution_count": null,
   "id": "5546e9f1-fd51-4f2a-ad5f-1739be9f6535",
   "metadata": {},
   "outputs": [
    {
     "name": "stderr",
     "output_type": "stream",
     "text": [
      "OMP: Info #276: omp_set_nested routine deprecated, please use omp_set_max_active_levels instead.\n"
     ]
    }
   ],
   "source": [
    "sc.pp.calculate_qc_metrics(adata,\n",
    "                           inplace=True,\n",
    "                           percent_top=[25],\n",
    "                           qc_vars=['mito', 'ribo', 'mrpl'])"
   ]
  },
  {
   "cell_type": "code",
   "execution_count": null,
   "id": "e87f626d-1180-4617-b868-81c2b9eb7b9a",
   "metadata": {},
   "outputs": [
    {
     "data": {
      "text/plain": [
       "AnnData object with n_obs × n_vars = 2700 × 32738\n",
       "    obs: 'n_genes_by_counts', 'log1p_n_genes_by_counts', 'total_counts', 'log1p_total_counts', 'pct_counts_in_top_25_genes', 'total_counts_mito', 'log1p_total_counts_mito', 'pct_counts_mito', 'total_counts_ribo', 'log1p_total_counts_ribo', 'pct_counts_ribo', 'total_counts_mrpl', 'log1p_total_counts_mrpl', 'pct_counts_mrpl'\n",
       "    var: 'gene_ids', 'mito', 'ribo', 'mrpl', 'n_cells_by_counts', 'mean_counts', 'log1p_mean_counts', 'pct_dropout_by_counts', 'total_counts', 'log1p_total_counts'"
      ]
     },
     "execution_count": null,
     "metadata": {},
     "output_type": "execute_result"
    }
   ],
   "source": [
    "adata"
   ]
  },
  {
   "cell_type": "code",
   "execution_count": null,
   "id": "0404a19a-8722-42b2-92a7-7f0724f615e4",
   "metadata": {},
   "outputs": [
    {
     "name": "stdout",
     "output_type": "stream",
     "text": [
      "WARNING: saving figure to file figures/violinmito.png\n"
     ]
    },
    {
     "name": "stderr",
     "output_type": "stream",
     "text": [
      "/opt/homebrew/Caskroom/mambaforge/base/envs/ascc24/lib/python3.9/site-packages/scanpy/plotting/_anndata.py:839: FutureWarning: \n",
      "\n",
      "The `scale` parameter has been renamed and will be removed in v0.15.0. Pass `density_norm='width'` for the same effect.\n",
      "  ax = sns.violinplot(\n"
     ]
    },
    {
     "data": {
      "image/png": "[encoded data removed]",
      "text/plain": [
       "<Figure size 804.6x480 with 1 Axes>"
      ]
     },
     "metadata": {},
     "output_type": "display_data"
    }
   ],
   "source": [
    "sc.pl.violin(adata, 'pct_counts_mito', save='mito.png')"
   ]
  },
  {
   "cell_type": "code",
   "execution_count": null,
   "id": "7f011a57-da09-4ec8-9a0d-a9c6ab808fe6",
   "metadata": {},
   "outputs": [
    {
     "data": {
      "image/png": "[encoded data removed]",
      "text/plain": [
       "<Figure size 728.72x480 with 1 Axes>"
      ]
     },
     "metadata": {},
     "output_type": "display_data"
    }
   ],
   "source": [
    "sc.pl.scatter(adata, y='pct_counts_ribo', x='log1p_total_counts')"
   ]
  }
 ],
 "metadata": {
  "kernelspec": {
   "display_name": "python3",
   "language": "python",
   "name": "python3"
  }
 },
 "nbformat": 4,
 "nbformat_minor": 5
}
