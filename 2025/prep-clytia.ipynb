{
 "cells": [
  {
   "cell_type": "code",
   "execution_count": null,
   "id": "1cede804-32ee-4ff7-9749-f5b14f6f3a5e",
   "metadata": {},
   "outputs": [],
   "source": [
    "import pandas as pd\n",
    "import numpy as np\n",
    "import scanpy as sc\n",
    "\n",
    "import matplotlib.pyplot as plt\n",
    "import seaborn as sns\n",
    "\n",
    "from anticor_features.anticor_features import get_anti_cor_genes\n",
    "import topo as tp\n",
    "from topo.tpgraph.intrinsic_dim import IntrinsicDim"
   ]
  },
  {
   "cell_type": "code",
   "execution_count": null,
   "id": "9d169ced-f63a-4805-9745-7e9e12913cd1",
   "metadata": {},
   "outputs": [
    {
     "name": "stdout",
     "output_type": "stream",
     "text": [
      "2025-02-28 15:27:12.092313\n"
     ]
    }
   ],
   "source": [
    "import datetime\n",
    "print(datetime.datetime.now())"
   ]
  },
  {
   "cell_type": "code",
   "execution_count": null,
   "id": "904d5d92-57b3-4b46-ae0f-3dc221eafca9",
   "metadata": {},
   "outputs": [],
   "source": [
    "adata = sc.read_h5ad('/Users/npapadop/Documents/teaching/2023/advanced_scRNAseq/data/clytia/cuff_adata_unfilt.h5ad')\n",
    "\n",
    "cells = pd.read_csv('/Users/npapadop/Documents/teaching/2023/advanced_scRNAseq/data/clytia/meta.tsv', sep='\\t', index_col=0, header=0)\n",
    "\n",
    "adata = adata[cells.index].copy()\n",
    "adata.obs = adata.obs.join(cells.drop(columns=['batch']))"
   ]
  },
  {
   "cell_type": "code",
   "execution_count": null,
   "id": "d814ae13-9273-4142-a24d-dca4fc3828d2",
   "metadata": {},
   "outputs": [],
   "source": [
    "genes = pd.read_csv('/Users/npapadop/Documents/data/metazoan_atlases/clytia_hemisphaerica/h_sap_nr-clytia_full_rna.txt', sep='\\t', header=None, skiprows=4)\n",
    "genes.columns = ['Protein 1', 'Protein 2', 'Protein ID1', 'Protein ID2', 'Orthology type', 'OMA group']"
   ]
  },
  {
   "cell_type": "code",
   "execution_count": null,
   "id": "3087740d-5036-4f64-915b-b783da4b79ad",
   "metadata": {},
   "outputs": [],
   "source": [
    "genes['clytia'] = genes['Protein ID2'].str.split(' ').str[0].str.split('|').str[1]\n",
    "genes['symbol'] = genes['Protein ID1'].str.split(' ').str[0].str.split('|').str[1]\n",
    "genes['description'] = genes['Protein ID1'].str.split('|').str[9]"
   ]
  },
  {
   "cell_type": "code",
   "execution_count": null,
   "id": "7ac6e94b-aefd-4e00-883d-7ebb58bff081",
   "metadata": {},
   "outputs": [
    {
     "data": {
      "text/plain": [
       "clytia\n",
       "XLOC_006108    28\n",
       "XLOC_039998    20\n",
       "XLOC_036708    19\n",
       "XLOC_040069    19\n",
       "XLOC_019521    17\n",
       "               ..\n",
       "XLOC_044282     1\n",
       "XLOC_008180     1\n",
       "XLOC_004816     1\n",
       "XLOC_041601     1\n",
       "XLOC_035288     1\n",
       "Name: count, Length: 4944, dtype: int64"
      ]
     },
     "execution_count": null,
     "metadata": {},
     "output_type": "execute_result"
    }
   ],
   "source": [
    "genes['clytia'].value_counts()"
   ]
  },
  {
   "cell_type": "code",
   "execution_count": null,
   "id": "80f3a5cd-e69b-4778-9bc3-6286e3c2b9eb",
   "metadata": {},
   "outputs": [
    {
     "name": "stderr",
     "output_type": "stream",
     "text": [
      "/var/folders/md/d6lwwbv97xb6g6ddypntnprh0000gp/T/ipykernel_7123/3535290506.py:1: DeprecationWarning: DataFrameGroupBy.apply operated on the grouping columns. This behavior is deprecated, and in a future version of pandas the grouping columns will be excluded from the operation. Either pass `include_groups=False` to exclude the groupings or explicitly select the grouping columns after groupby to silence this warning.\n",
      "  reduced = genes.groupby('clytia', group_keys=False).apply(lambda x: x.sample(1), include_groups=True)\n"
     ]
    }
   ],
   "source": [
    "reduced = genes.groupby('clytia', group_keys=False).apply(lambda x: x.sample(1), include_groups=True)"
   ]
  },
  {
   "cell_type": "code",
   "execution_count": null,
   "id": "f073d05f-6ee8-4840-9a13-0f816e470289",
   "metadata": {},
   "outputs": [],
   "source": [
    "adata.var = adata.var.join(reduced.set_index('clytia')[['symbol', 'description']])"
   ]
  },
  {
   "cell_type": "code",
   "execution_count": null,
   "id": "37820b2d-2788-4623-9022-708a6daa8c53",
   "metadata": {},
   "outputs": [],
   "source": [
    "adata.write_h5ad('/Users/npapadop/Documents/data/metazoan_atlases/clytia_hemisphaerica/counts_and_metadata.h5ad')"
   ]
  }
 ],
 "metadata": {
  "kernelspec": {
   "display_name": "python3",
   "language": "python",
   "name": "python3"
  }
 },
 "nbformat": 4,
 "nbformat_minor": 5
}
