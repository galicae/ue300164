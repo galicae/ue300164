{
 "cells": [
  {
   "cell_type": "code",
   "execution_count": null,
   "metadata": {},
   "outputs": [],
   "source": [
    "import pandas as pd\n",
    "import numpy as np\n",
    "import scanpy as sc\n",
    "\n",
    "import matplotlib.pyplot as plt\n",
    "import seaborn as sns\n",
    "\n",
    "from anticor_features.anticor_features import get_anti_cor_genes\n",
    "import topo as tp\n",
    "from topo.tpgraph.intrinsic_dim import IntrinsicDim"
   ]
  },
  {
   "cell_type": "code",
   "execution_count": null,
   "metadata": {},
   "outputs": [
    {
     "name": "stdout",
     "output_type": "stream",
     "text": [
      "2025-02-28 12:05:34.750400\n"
     ]
    }
   ],
   "source": [
    "import datetime\n",
    "print(datetime.datetime.now())"
   ]
  },
  {
   "cell_type": "code",
   "execution_count": null,
   "metadata": {},
   "outputs": [],
   "source": [
    "metadata = pd.read_csv('./data/ciona_larva/ciona10stage.meta.upload.new.MSTRG.txt', sep='\\t', index_col=0, skiprows=2, header=None)\n",
    "metadata.columns = ['nGene', 'nUMI', 'orig.ident', 'percent.mito', 'stage', 'batch']"
   ]
  },
  {
   "cell_type": "code",
   "execution_count": null,
   "metadata": {},
   "outputs": [
    {
     "data": {
      "text/plain": [
       "(137841, 6)"
      ]
     },
     "execution_count": null,
     "metadata": {},
     "output_type": "execute_result"
    }
   ],
   "source": [
    "metadata.shape"
   ]
  },
  {
   "cell_type": "code",
   "execution_count": null,
   "metadata": {},
   "outputs": [],
   "source": [
    "keep = metadata['stage'] == 'j.larva'\n",
    "metadata = metadata[keep].copy()"
   ]
  },
  {
   "cell_type": "code",
   "execution_count": null,
   "metadata": {},
   "outputs": [
    {
     "data": {
      "text/plain": [
       "batch\n",
       "b16    13740\n",
       "b15     9194\n",
       "b14     7748\n",
       "Name: count, dtype: int64"
      ]
     },
     "execution_count": null,
     "metadata": {},
     "output_type": "execute_result"
    }
   ],
   "source": [
    "metadata['batch'].value_counts()"
   ]
  },
  {
   "cell_type": "code",
   "execution_count": null,
   "metadata": {},
   "outputs": [],
   "source": [
    "# lv1 = sc.read_10x_h5('data/ciona_larva/GSE131155_RAW/GSM3764784_larva1_raw_gene_bc_matrices_h5.h5')\n",
    "# lv1.obs.index = 'lv1'\n",
    "# lv2 = sc.read_10x_h5('data/ciona_larva/GSE131155_RAW/GSM3764785_larva2_raw_gene_bc_matrices_h5.h5')\n",
    "# lv2.obs.index = 'lv2'\n",
    "lv3 = sc.read_10x_h5('data/ciona_larva/GSE131155_RAW/GSM3764786_larva3_raw_gene_bc_matrices_h5.h5')\n",
    "# lv3.obs.index = 'lv3'"
   ]
  },
  {
   "cell_type": "code",
   "execution_count": null,
   "metadata": {},
   "outputs": [],
   "source": [
    "keep = metadata.index.str.contains(\"lv.4\")\n",
    "test = metadata[keep]\n",
    "test.index = test.index.str.split('_').str[1] + '-1'"
   ]
  },
  {
   "cell_type": "code",
   "execution_count": null,
   "metadata": {},
   "outputs": [
    {
     "data": {
      "text/html": [
       "<div>\n",
       "<style scoped>\n",
       "    .dataframe tbody tr th:only-of-type {\n",
       "        vertical-align: middle;\n",
       "    }\n",
       "\n",
       "    .dataframe tbody tr th {\n",
       "        vertical-align: top;\n",
       "    }\n",
       "\n",
       "    .dataframe thead th {\n",
       "        text-align: right;\n",
       "    }\n",
       "</style>\n",
       "<table border=\"1\" class=\"dataframe\">\n",
       "  <thead>\n",
       "    <tr style=\"text-align: right;\">\n",
       "      <th></th>\n",
       "      <th>nGene</th>\n",
       "      <th>nUMI</th>\n",
       "      <th>orig.ident</th>\n",
       "      <th>percent.mito</th>\n",
       "      <th>stage</th>\n",
       "      <th>batch</th>\n",
       "    </tr>\n",
       "    <tr>\n",
       "      <th>0</th>\n",
       "      <th></th>\n",
       "      <th></th>\n",
       "      <th></th>\n",
       "      <th></th>\n",
       "      <th></th>\n",
       "      <th></th>\n",
       "    </tr>\n",
       "  </thead>\n",
       "  <tbody>\n",
       "    <tr>\n",
       "      <th>AATCGGTAGAGTACCG-1</th>\n",
       "      <td>1068</td>\n",
       "      <td>5509</td>\n",
       "      <td>lv.4</td>\n",
       "      <td>0.400980</td>\n",
       "      <td>j.larva</td>\n",
       "      <td>b15</td>\n",
       "    </tr>\n",
       "    <tr>\n",
       "      <th>ACAGCTACAGACGCAA-1</th>\n",
       "      <td>1085</td>\n",
       "      <td>8740</td>\n",
       "      <td>lv.4</td>\n",
       "      <td>0.564416</td>\n",
       "      <td>j.larva</td>\n",
       "      <td>b15</td>\n",
       "    </tr>\n",
       "    <tr>\n",
       "      <th>ATCACGACATCAGTAC-1</th>\n",
       "      <td>1116</td>\n",
       "      <td>9871</td>\n",
       "      <td>lv.4</td>\n",
       "      <td>0.551773</td>\n",
       "      <td>j.larva</td>\n",
       "      <td>b15</td>\n",
       "    </tr>\n",
       "    <tr>\n",
       "      <th>CCAATCCAGAATCTCC-1</th>\n",
       "      <td>1008</td>\n",
       "      <td>7061</td>\n",
       "      <td>lv.4</td>\n",
       "      <td>0.510198</td>\n",
       "      <td>j.larva</td>\n",
       "      <td>b15</td>\n",
       "    </tr>\n",
       "    <tr>\n",
       "      <th>CCACGGACACGAAATA-1</th>\n",
       "      <td>1062</td>\n",
       "      <td>10398</td>\n",
       "      <td>lv.4</td>\n",
       "      <td>0.339521</td>\n",
       "      <td>j.larva</td>\n",
       "      <td>b15</td>\n",
       "    </tr>\n",
       "    <tr>\n",
       "      <th>...</th>\n",
       "      <td>...</td>\n",
       "      <td>...</td>\n",
       "      <td>...</td>\n",
       "      <td>...</td>\n",
       "      <td>...</td>\n",
       "      <td>...</td>\n",
       "    </tr>\n",
       "    <tr>\n",
       "      <th>lv.4-1</th>\n",
       "      <td>1397</td>\n",
       "      <td>4067</td>\n",
       "      <td>lv.4</td>\n",
       "      <td>0.023113</td>\n",
       "      <td>j.larva</td>\n",
       "      <td>b14</td>\n",
       "    </tr>\n",
       "    <tr>\n",
       "      <th>lv.4-1</th>\n",
       "      <td>2570</td>\n",
       "      <td>7587</td>\n",
       "      <td>lv.4</td>\n",
       "      <td>0.025438</td>\n",
       "      <td>j.larva</td>\n",
       "      <td>b14</td>\n",
       "    </tr>\n",
       "    <tr>\n",
       "      <th>lv.4-1</th>\n",
       "      <td>3090</td>\n",
       "      <td>12666</td>\n",
       "      <td>lv.4</td>\n",
       "      <td>0.028583</td>\n",
       "      <td>j.larva</td>\n",
       "      <td>b14</td>\n",
       "    </tr>\n",
       "    <tr>\n",
       "      <th>lv.4-1</th>\n",
       "      <td>1503</td>\n",
       "      <td>5058</td>\n",
       "      <td>lv.4</td>\n",
       "      <td>0.012853</td>\n",
       "      <td>j.larva</td>\n",
       "      <td>b14</td>\n",
       "    </tr>\n",
       "    <tr>\n",
       "      <th>lv.4-1</th>\n",
       "      <td>1664</td>\n",
       "      <td>4178</td>\n",
       "      <td>lv.4</td>\n",
       "      <td>0.025371</td>\n",
       "      <td>j.larva</td>\n",
       "      <td>b14</td>\n",
       "    </tr>\n",
       "  </tbody>\n",
       "</table>\n",
       "<p>9752 rows × 6 columns</p>\n",
       "</div>"
      ],
      "text/plain": [
       "                    nGene   nUMI orig.ident  percent.mito    stage batch\n",
       "0                                                                       \n",
       "AATCGGTAGAGTACCG-1   1068   5509       lv.4      0.400980  j.larva   b15\n",
       "ACAGCTACAGACGCAA-1   1085   8740       lv.4      0.564416  j.larva   b15\n",
       "ATCACGACATCAGTAC-1   1116   9871       lv.4      0.551773  j.larva   b15\n",
       "CCAATCCAGAATCTCC-1   1008   7061       lv.4      0.510198  j.larva   b15\n",
       "CCACGGACACGAAATA-1   1062  10398       lv.4      0.339521  j.larva   b15\n",
       "...                   ...    ...        ...           ...      ...   ...\n",
       "lv.4-1               1397   4067       lv.4      0.023113  j.larva   b14\n",
       "lv.4-1               2570   7587       lv.4      0.025438  j.larva   b14\n",
       "lv.4-1               3090  12666       lv.4      0.028583  j.larva   b14\n",
       "lv.4-1               1503   5058       lv.4      0.012853  j.larva   b14\n",
       "lv.4-1               1664   4178       lv.4      0.025371  j.larva   b14\n",
       "\n",
       "[9752 rows x 6 columns]"
      ]
     },
     "execution_count": null,
     "metadata": {},
     "output_type": "execute_result"
    }
   ],
   "source": [
    "test"
   ]
  },
  {
   "cell_type": "code",
   "execution_count": null,
   "metadata": {},
   "outputs": [
    {
     "data": {
      "text/plain": [
       "(4749,)"
      ]
     },
     "execution_count": null,
     "metadata": {},
     "output_type": "execute_result"
    }
   ],
   "source": [
    "np.intersect1d(test.index, lv2.obs.index).shape"
   ]
  },
  {
   "cell_type": "code",
   "execution_count": null,
   "metadata": {},
   "outputs": [
    {
     "data": {
      "text/plain": [
       "(4060,)"
      ]
     },
     "execution_count": null,
     "metadata": {},
     "output_type": "execute_result"
    }
   ],
   "source": [
    "np.intersect1d(test.index, lv1.obs.index).shape"
   ]
  },
  {
   "cell_type": "code",
   "execution_count": null,
   "metadata": {},
   "outputs": [],
   "source": [
    "lv2 = sc.read_10x_h5('data/ciona_larva/GSE131155_RAW/GSM3764785_larva2_raw_gene_bc_matrices_h5.h5')\n",
    "lv2.obs.index = 'lv.2_' + lv2.obs.index.str.replace('-1', '')"
   ]
  },
  {
   "cell_type": "code",
   "execution_count": null,
   "metadata": {},
   "outputs": [],
   "source": [
    "lv1 = sc.read_10x_h5('data/ciona_larva/GSE131155_RAW/GSM3764784_larva1_raw_gene_bc_matrices_h5.h5')"
   ]
  },
  {
   "cell_type": "code",
   "execution_count": null,
   "metadata": {},
   "outputs": [
    {
     "data": {
      "text/plain": [
       "Index(['KH2012:KH.C1.286', 'KH2012:KH.C1.560', 'KH2012:KH.C1.907',\n",
       "       'KH2012:KH.C1.1180', 'KH2012:KH.C1.526', 'KH2012:KH.C1.183',\n",
       "       'KH2012:KH.C1.172', 'KH2012:KH.C1.969', 'KH2012:KH.C1.655',\n",
       "       'KH2012:KH.C1.962',\n",
       "       ...\n",
       "       'ENSCING00000025220', 'ENSCING00000025221', 'ENSCING00000025222',\n",
       "       'ENSCING00000025223', 'ENSCING00000025224', 'ENSCING00000025225',\n",
       "       'ENSCING00000025226', 'ENSCING00000025227', 'ENSCING00000025228',\n",
       "       'ENSCING00000025229'],\n",
       "      dtype='object', length=15269)"
      ]
     },
     "execution_count": null,
     "metadata": {},
     "output_type": "execute_result"
    }
   ],
   "source": [
    "lv1.var.index"
   ]
  },
  {
   "cell_type": "code",
   "execution_count": null,
   "metadata": {},
   "outputs": [
    {
     "data": {
      "text/plain": [
       "Index(['lv.1_AAACCTGAGCACGCCT-1', 'lv.1_AACTCAGAGACTTGAA-1',\n",
       "       'lv.1_AAGGTTCTCGAACGGA-1', 'lv.1_ACCCACTAGCCACTAT-1',\n",
       "       'lv.1_ACGCCGAAGGGCTTCC-1', 'lv.1_ACGGCCAGTAGCGTAG-1',\n",
       "       'lv.1_ACTTTCAAGTGTCCAT-1', 'lv.1_AGAGCGAGTATCAGTC-1',\n",
       "       'lv.1_AGCTTGAGTAACGCGA-1', 'lv.1_AGGCCGTGTATAGGGC-1',\n",
       "       ...\n",
       "       'MSTRG_lv.1_TTGGAACCAGACGCAA-2', 'MSTRG_lv.1_TTGGCAATCGTAGGTT-2',\n",
       "       'MSTRG_lv.1_TTTATGCAGTCGTACT-2', 'MSTRG_lv.1_TTTATGCCATGTCGAT-2',\n",
       "       'MSTRG_lv.1_TTTCCTCGTAGAGGAA-2', 'MSTRG_lv.1_TTTCCTCTCCAGAGGA-2',\n",
       "       'MSTRG_lv.1_TTTGCGCTCCTTGACC-2', 'MSTRG_lv.1_TTTGCGCTCTTAGCCC-2',\n",
       "       'MSTRG_lv.1_TTTGGTTGTCCTCCAT-2', 'MSTRG_lv.1_TTTGTCACAGATCCAT-2'],\n",
       "      dtype='object', name=0, length=13740)"
      ]
     },
     "execution_count": null,
     "metadata": {},
     "output_type": "execute_result"
    }
   ],
   "source": [
    "keep = metadata['orig.ident'] == 'lv.1'\n",
    "metadata[keep].index"
   ]
  },
  {
   "cell_type": "code",
   "execution_count": null,
   "metadata": {},
   "outputs": [
    {
     "data": {
      "text/plain": [
       "Index(['lv.3', 'lv.4', 'lv.1', 'MSTRG'], dtype='object', name=0)"
      ]
     },
     "execution_count": null,
     "metadata": {},
     "output_type": "execute_result"
    }
   ],
   "source": [
    "metadata.index.str.split('_').str[0].unique()"
   ]
  },
  {
   "cell_type": "code",
   "execution_count": null,
   "metadata": {},
   "outputs": [
    {
     "data": {
      "text/plain": [
       "array([], dtype=object)"
      ]
     },
     "execution_count": null,
     "metadata": {},
     "output_type": "execute_result"
    }
   ],
   "source": [
    "np.intersect1d(metadata.index, lv1.obs.index)"
   ]
  },
  {
   "cell_type": "code",
   "execution_count": null,
   "metadata": {},
   "outputs": [],
   "source": [
    "raw"
   ]
  },
  {
   "cell_type": "code",
   "execution_count": null,
   "metadata": {},
   "outputs": [],
   "source": [
    "raw.X.max()"
   ]
  }
 ],
 "metadata": {
  "kernelspec": {
   "display_name": "python3",
   "language": "python",
   "name": "python3"
  }
 },
 "nbformat": 4,
 "nbformat_minor": 4
}
