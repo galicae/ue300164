{
 "cells": [
  {
   "cell_type": "code",
   "execution_count": 1,
   "metadata": {},
   "outputs": [
    {
     "name": "stderr",
     "output_type": "stream",
     "text": [
      "/Users/npapadop/mambaforge/envs/ascc23/lib/python3.9/site-packages/tqdm/auto.py:21: TqdmWarning: IProgress not found. Please update jupyter and ipywidgets. See https://ipywidgets.readthedocs.io/en/stable/user_install.html\n",
      "  from .autonotebook import tqdm as notebook_tqdm\n"
     ]
    }
   ],
   "source": [
    "import scanpy as sc\n",
    "import pandas as pd"
   ]
  },
  {
   "cell_type": "code",
   "execution_count": 2,
   "metadata": {},
   "outputs": [],
   "source": [
    "import requests\n",
    "from tqdm import tqdm\n",
    "def download_file(doi,ext):\n",
    "    url = 'https://api.datacite.org/dois/'+doi+'/media'\n",
    "    r = requests.get(url).json()\n",
    "    netcdf_url = r['data'][0]['attributes']['url']\n",
    "    r = requests.get(netcdf_url,stream=True)\n",
    "    #Set file name\n",
    "    fname = doi.split('/')[-1]+ext\n",
    "    #Download file with progress bar\n",
    "    if r.status_code == 403:\n",
    "        print(\"File Unavailable\")\n",
    "    if 'content-length' not in r.headers:\n",
    "        print(\"Did not get file\")\n",
    "    else:\n",
    "        with open(fname, 'wb') as f:\n",
    "            # total_length = int(r.headers.get('content-length'))\n",
    "            # pbar = tnrange(int(total_length/1024), unit=\"B\")\n",
    "            for chunk in r.iter_content(chunk_size=1024):\n",
    "                if chunk:\n",
    "                    f.write(chunk)\n",
    "        return fname"
   ]
  },
  {
   "cell_type": "code",
   "execution_count": 3,
   "metadata": {},
   "outputs": [],
   "source": [
    "# download_file('10.22002/D1.1796','.gz')\n",
    "# download_file('10.22002/D1.1797','.gz')"
   ]
  },
  {
   "cell_type": "code",
   "execution_count": 4,
   "metadata": {},
   "outputs": [],
   "source": [
    "# !gunzip -f *.gz"
   ]
  },
  {
   "cell_type": "code",
   "execution_count": 5,
   "metadata": {},
   "outputs": [],
   "source": [
    "raw = sc.read_h5ad(\"D1.1797\")\n",
    "processed = sc.read_h5ad(\"D1.1796\")"
   ]
  },
  {
   "cell_type": "code",
   "execution_count": 6,
   "metadata": {},
   "outputs": [],
   "source": [
    "processed.obs[\"fed\"] = processed.obs[\"fed\"].map({\"True\":True, \"False\":False})\n",
    "processed.obs[\"fed\"] = processed.obs[\"fed\"].astype(bool)"
   ]
  },
  {
   "cell_type": "code",
   "execution_count": 7,
   "metadata": {},
   "outputs": [],
   "source": [
    "output = \"/Users/npapadop/Documents/teaching/2023/advanced_scRNAseq/data/clytia/\"\n",
    "processed.obs.to_csv(output + \"clytia_metadata.csv\")"
   ]
  },
  {
   "cell_type": "code",
   "execution_count": 8,
   "metadata": {},
   "outputs": [],
   "source": [
    "processed.obs[\"assignment\"] = processed.obs[\"cellRanger_louvain\"].copy()\n",
    "\n",
    "replace = {31: \"Ronit\", # neural\n",
    "           30: \"Michelle\", # muscle\n",
    "           21: \"Noemi\", # nematocysts\n",
    "           29: \"Oliver\", # bioluminescence\n",
    "           35: \"Mario\", # very early oocytes\n",
    "           24: \"Antonia\", # gastrodermis/digestive\n",
    "}\n",
    "processed.obs[\"assignment\"].replace(replace, inplace=True)\n",
    "processed.obs[\"assignment\"] = processed.obs[\"assignment\"].astype(str)"
   ]
  },
  {
   "cell_type": "code",
   "execution_count": 9,
   "metadata": {},
   "outputs": [],
   "source": [
    "processed.obs = processed.obs[[\"batch\", \"orgID\", \"fed\", \"starved\", \"assignment\"]]"
   ]
  },
  {
   "cell_type": "code",
   "execution_count": 10,
   "metadata": {},
   "outputs": [],
   "source": [
    "panther = pd.read_csv(\"/Users/npapadop/Documents/teaching/2023/advanced_scRNAseq/data/clytia/full_rna_nr_panther.txt\",\n",
    "                      sep=\"\\t\", index_col=0, header=None)\n",
    "panther[\"name\"] = panther.index + \" (\" + panther[2] + \")\"\n",
    "\n",
    "manual = pd.read_csv(\"/Users/npapadop/Documents/teaching/2023/advanced_scRNAseq/data/clytia/genes.tsv\",\n",
    "                      sep=\"\\t\", index_col=0, header=None)\n",
    "manual[1] = manual.index + \" [\" + manual[1] + \"]\"\n",
    "\n",
    "var = pd.DataFrame(index=raw.var.index)\n",
    "var[\"name\"] = var.index\n",
    "var[\"name\"].replace(manual[1].to_dict(), inplace=True)\n",
    "var[\"name\"].replace(panther[\"name\"].to_dict(), inplace=True)"
   ]
  },
  {
   "cell_type": "code",
   "execution_count": 11,
   "metadata": {},
   "outputs": [],
   "source": [
    "for fed in [True, False]:\n",
    "        for batch in [\"0\", \"1\"]:\n",
    "            keep = (processed.obs[\"fed\"] == fed) & (processed.obs[\"batch\"] == batch)\n",
    "            name = f\"{'fed' if fed else 'starved'}_batch{batch}\"\n",
    "            animal = sc.AnnData(raw.X[keep], obs=processed.obs[keep], var=var)\n",
    "            animal.write_h5ad(output + \"anndata/\" + f\"{name}.h5ad\")"
   ]
  }
 ],
 "metadata": {
  "kernelspec": {
   "display_name": "ascc23",
   "language": "python",
   "name": "python3"
  },
  "language_info": {
   "codemirror_mode": {
    "name": "ipython",
    "version": 3
   },
   "file_extension": ".py",
   "mimetype": "text/x-python",
   "name": "python",
   "nbconvert_exporter": "python",
   "pygments_lexer": "ipython3",
   "version": "3.9.16"
  },
  "orig_nbformat": 4
 },
 "nbformat": 4,
 "nbformat_minor": 2
}
