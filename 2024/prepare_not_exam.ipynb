{
 "cells": [
  {
   "cell_type": "code",
   "execution_count": 1,
   "id": "069251fc-ceb8-4d6e-8d1f-16b25a36db86",
   "metadata": {},
   "outputs": [],
   "source": [
    "import requests\n",
    "import sys\n",
    "from tqdm import tqdm\n",
    "\n",
    "import pandas as pd\n",
    "import numpy as np\n",
    "import scanpy as sc\n",
    "import anndata as ad"
   ]
  },
  {
   "cell_type": "code",
   "execution_count": 2,
   "id": "6adfea58-dc90-41aa-8b4c-d09d5b48a918",
   "metadata": {},
   "outputs": [
    {
     "name": "stderr",
     "output_type": "stream",
     "text": [
      "/opt/homebrew/Caskroom/mambaforge/base/envs/ascc24/lib/python3.9/site-packages/anndata/__init__.py:55: FutureWarning: `anndata.read` is deprecated, use `anndata.read_h5ad` instead. `ad.read` will be removed in mid 2024.\n",
      "  warnings.warn(\n"
     ]
    }
   ],
   "source": [
    "adata = sc.datasets.ebi_expression_atlas(\"E-MTAB-5061\")"
   ]
  },
  {
   "cell_type": "code",
   "execution_count": 3,
   "id": "cdda6fbf-d28e-41fb-aee6-39272e8dd31a",
   "metadata": {},
   "outputs": [
    {
     "data": {
      "text/plain": [
       "Index(['Sample Characteristic[organism]',\n",
       "       'Sample Characteristic Ontology Term[organism]',\n",
       "       'Sample Characteristic[individual]',\n",
       "       'Sample Characteristic Ontology Term[individual]',\n",
       "       'Sample Characteristic[sex]',\n",
       "       'Sample Characteristic Ontology Term[sex]',\n",
       "       'Sample Characteristic[age]',\n",
       "       'Sample Characteristic Ontology Term[age]',\n",
       "       'Sample Characteristic[body mass index]',\n",
       "       'Sample Characteristic Ontology Term[body mass index]',\n",
       "       'Sample Characteristic[organism status]',\n",
       "       'Sample Characteristic Ontology Term[organism status]',\n",
       "       'Sample Characteristic[clinical information]',\n",
       "       'Sample Characteristic Ontology Term[clinical information]',\n",
       "       'Sample Characteristic[organism part]',\n",
       "       'Sample Characteristic Ontology Term[organism part]',\n",
       "       'Sample Characteristic[cell type]',\n",
       "       'Sample Characteristic Ontology Term[cell type]',\n",
       "       'Sample Characteristic[disease]',\n",
       "       'Sample Characteristic Ontology Term[disease]',\n",
       "       'Sample Characteristic[biosource provider]',\n",
       "       'Sample Characteristic Ontology Term[biosource provider]',\n",
       "       'Sample Characteristic[single cell quality]',\n",
       "       'Sample Characteristic Ontology Term[single cell quality]',\n",
       "       'Sample Characteristic[submitted single cell quality]',\n",
       "       'Sample Characteristic Ontology Term[submitted single cell quality]',\n",
       "       'Factor Value[single cell identifier]',\n",
       "       'Factor Value Ontology Term[single cell identifier]',\n",
       "       'Factor Value[disease]', 'Factor Value Ontology Term[disease]',\n",
       "       'Factor Value[inferred cell type - ontology labels]',\n",
       "       'Factor Value Ontology Term[inferred cell type - ontology labels]',\n",
       "       'Factor Value[inferred cell type - authors labels]',\n",
       "       'Factor Value Ontology Term[inferred cell type - authors labels]'],\n",
       "      dtype='object')"
      ]
     },
     "execution_count": 3,
     "metadata": {},
     "output_type": "execute_result"
    }
   ],
   "source": [
    "adata.obs.columns"
   ]
  },
  {
   "cell_type": "code",
   "execution_count": 4,
   "id": "386e832d-a366-45d7-ac2a-ef04b33fc981",
   "metadata": {},
   "outputs": [],
   "source": [
    "hide = [\n",
    "    \"Factor Value[inferred cell type - authors labels]\",\n",
    "    'Sample Characteristic[submitted single cell quality]',\n",
    "]\n",
    "keep = [\n",
    "    'Sample Characteristic[individual]',\n",
    "    'Sample Characteristic[sex]',\n",
    "    'Sample Characteristic[age]',\n",
    "    'Sample Characteristic[body mass index]',\n",
    "    'Sample Characteristic[disease]',\n",
    "    \n",
    "]"
   ]
  },
  {
   "cell_type": "code",
   "execution_count": 5,
   "id": "ae5251c2-9c9f-44dc-8a8e-6dc873d81151",
   "metadata": {},
   "outputs": [],
   "source": [
    "adata.obs[hide].to_csv(\"./E-MTAB-5061.hidden.csv\")"
   ]
  },
  {
   "cell_type": "code",
   "execution_count": 6,
   "id": "22a1d08a-6f00-4370-bd94-910ec3767d1c",
   "metadata": {},
   "outputs": [],
   "source": [
    "adata.obs = adata.obs[keep].copy()"
   ]
  },
  {
   "cell_type": "code",
   "execution_count": 7,
   "id": "eab0d93a-9927-4238-b8ff-5f57e8b89532",
   "metadata": {},
   "outputs": [],
   "source": [
    "def get_gene_names(gene_ids):\n",
    "  genes = '\", \"'.join(gene_ids)\n",
    "  data = '{ \"ids\" : [\"' + genes + '\" ] }'\n",
    "  \n",
    "  server = \"https://rest.ensembl.org\"\n",
    "  ext = \"/lookup/id\"\n",
    "  headers={ \"Content-Type\" : \"application/json\", \"Accept\" : \"application/json\"}\n",
    "  \n",
    "  r = requests.post(server+ext, headers=headers, data=data)\n",
    "  \n",
    "  if not r.ok:\n",
    "    r.raise_for_status()\n",
    "    sys.exit()\n",
    "  \n",
    "  decoded = r.json()\n",
    "  return decoded"
   ]
  },
  {
   "cell_type": "code",
   "execution_count": 8,
   "id": "75e226bb-9133-4302-b5c2-efda77ba566d",
   "metadata": {},
   "outputs": [],
   "source": [
    "def decode_gene_names(decoded):\n",
    "    gene_names = {}\n",
    "    for gene in decoded.values():\n",
    "        try:\n",
    "            gene_id = gene[\"id\"]\n",
    "            gene_symbol = gene.get(\"display_name\", \"\")\n",
    "            gene_names[gene_id] = gene_symbol\n",
    "        except TypeError:\n",
    "            continue\n",
    "    return gene_names"
   ]
  },
  {
   "attachments": {},
   "cell_type": "markdown",
   "id": "140c314c-f43b-4d3e-8171-d1d87c4572bb",
   "metadata": {},
   "source": [
    "Actually translate names:"
   ]
  },
  {
   "cell_type": "code",
   "execution_count": 9,
   "id": "8dcfec31-add4-4d99-a2a3-b3408a8322d7",
   "metadata": {},
   "outputs": [
    {
     "name": "stderr",
     "output_type": "stream",
     "text": [
      "100%|███████████████████████████████████████████| 31/31 [06:12<00:00, 12.02s/it]\n"
     ]
    }
   ],
   "source": [
    "step = 1000\n",
    "for i in tqdm(range(0, adata.shape[1], step)):\n",
    "    gene_ids = adata.var.index[i:i+step]\n",
    "    decoded = get_gene_names(gene_ids)\n",
    "    gene_names = decode_gene_names(decoded)\n",
    "    adata.var.loc[gene_ids, \"gene_names\"] = pd.Series(gene_names)"
   ]
  },
  {
   "cell_type": "code",
   "execution_count": 11,
   "id": "5beff02b-b820-4c4a-8717-6223145f5b6e",
   "metadata": {},
   "outputs": [],
   "source": [
    "adata.var.to_csv(\"pancreas_genes.csv\")"
   ]
  },
  {
   "cell_type": "code",
   "execution_count": 12,
   "id": "dda5f852-d582-4fa8-b5ea-a730fb43a133",
   "metadata": {},
   "outputs": [],
   "source": [
    "adata.write(\"blank.h5ad\")"
   ]
  }
 ],
 "metadata": {
  "kernelspec": {
   "display_name": "Python 3 (ipykernel)",
   "language": "python",
   "name": "python3"
  },
  "language_info": {
   "codemirror_mode": {
    "name": "ipython",
    "version": 3
   },
   "file_extension": ".py",
   "mimetype": "text/x-python",
   "name": "python",
   "nbconvert_exporter": "python",
   "pygments_lexer": "ipython3",
   "version": "3.9.19"
  }
 },
 "nbformat": 4,
 "nbformat_minor": 5
}
