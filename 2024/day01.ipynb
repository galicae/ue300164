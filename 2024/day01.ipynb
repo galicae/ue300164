{
 "cells": [
  {
   "cell_type": "markdown",
   "id": "74ab6a69-9dee-4564-b7d9-afabc90c0f47",
   "metadata": {},
   "source": [
    "# 2024-03-04, Day 01\n",
    "\n",
    "An introduction to the course and a re-introduction to single cell transcriptomics.\n",
    "\n",
    "[Presentation](https://docs.google.com/presentation/d/1twfhltvAlx9LJ3RrkCAieD9pBrinUDJe1k_1AIipM2g/edit?usp=sharing):\n",
    "\n",
    "- Lowering costs and improving quality made sequencing an increasingly attractive option for bio research.\n",
    "- central dogma of molecular biology allows approximation of using mRNA as a proxy for cell type/state/function.\n",
    "- bulk methods let us capture overall expression in group of cells; limited by what we can successfully dissect.\n",
    "- modern techniques to isolate RNA from single cells - microfluidics as an example.\n",
    "- what does single-cell allow that bulk/other techniques don't? Why use it in the first place?\n",
    "- expression matrix as the entry point into scRNA-seq analysis.\n",
    "- pairwise cell distances allow us to preserve the structure of expr matrix while reducing dimensionality (from cells x genes to cells x cells).\n",
    "- what is the effect of the distance/similarity metric that we choose? How do we distill similarity/distance between cells to a single number?\n",
    "- we can exploit the patterns in the cell-cell similarity matrix to find patterns:\n",
    "groups of cells that are more similar to each other than the rest. This can be nested (sub-groups and super-groups). What are the biological implications? What are some examples of nested similarity structures?\n",
    "- patterns can be incredibly fine-grained - to the level of one cell in an organism (C. elegans example).\n",
    "- scRNA-seq is ready for production - contribution to COVID19/tumor research.\n",
    "- patterns in the cell-cell similarity matrix can point towards dynamics as well:\n",
    "- linear differentiation (think of examples)\n",
    "- branching trajectories (what is a good example?)\n",
    "- can bulk RNA-seq do the same? How does it compare?\n",
    "\n",
    "# Introduction to scanpy and the AnnData structure\n",
    "\n",
    "Basically, AnnData objects are a bag that contains multiple slots:\n",
    "\n",
    "- gene expression is saved in a cells x genes matrix X\n",
    "- cell metadata is saved in obs, a matrix of length cells\n",
    "- gene metadata is saved in var, a matrix of length genes\n",
    "- the unstructured dictionary uns holds all the things that don't fit in other places.\n",
    "\n",
    "The AnnData website has a [very helpful overview](https://raw.githubusercontent.com/scverse/anndata/main/docs/_static/img/anndata_schema.svg).\n",
    "\n",
    "# getting started\n",
    "\n",
    "it is customary in Python to start by importing all of the necessary libraries. Here, we are going to need:\n",
    "\n",
    "- [`scanpy`](https://scanpy.readthedocs.io/en/stable/), the Python library with data structures and functions that are useful for single-cell analysis\n",
    "- [`pandas`](https://pandas.pydata.org/), a library that is devoted to working with tables\n",
    "- [`numpy`](https://numpy.org/), a library that contains functions and data structures for efficiently working with matrices\n",
    "\n",
    "Feel free to have a look inside and read a bit. NumPy and Pandas in particular are central to the Python data analysis ecosystem, and almost everything else builds on top of these."
   ]
  },
  {
   "cell_type": "code",
   "execution_count": 1,
   "id": "1acd2171-ef63-4fdc-afaf-7daa19685fee",
   "metadata": {},
   "outputs": [
    {
     "name": "stderr",
     "output_type": "stream",
     "text": [
      "/opt/homebrew/Caskroom/miniforge/base/envs/ascc24/lib/python3.9/site-packages/tqdm/auto.py:21: TqdmWarning: IProgress not found. Please update jupyter and ipywidgets. See https://ipywidgets.readthedocs.io/en/stable/user_install.html\n",
      "  from .autonotebook import tqdm as notebook_tqdm\n"
     ]
    }
   ],
   "source": [
    "import scanpy as sc\n",
    "import pandas as pd\n",
    "import numpy as np"
   ]
  },
  {
   "cell_type": "markdown",
   "id": "e1e5d94b-f965-445a-91ab-e6e1a16da6fa",
   "metadata": {},
   "source": [
    "we are now going to load one of the AnnData objects that comes pre-bundled with ScanPy. This is one of the most standard datasets in single-cell analysis, a small dataset with approx. 3k peripheral mononuclear blood cells."
   ]
  },
  {
   "cell_type": "code",
   "execution_count": 2,
   "id": "cbf2412f-ab57-4192-8361-00825a047fef",
   "metadata": {},
   "outputs": [
    {
     "name": "stderr",
     "output_type": "stream",
     "text": [
      "/opt/homebrew/Caskroom/miniforge/base/envs/ascc24/lib/python3.9/site-packages/anndata/__init__.py:51: FutureWarning: `anndata.read` is deprecated, use `anndata.read_h5ad` instead. `ad.read` will be removed in mid 2024.\n",
      "  warnings.warn(\n"
     ]
    }
   ],
   "source": [
    "adata = sc.datasets.pbmc3k()"
   ]
  },
  {
   "cell_type": "code",
   "execution_count": 3,
   "id": "681b3601-d5a1-440e-85d6-f90ec4577b66",
   "metadata": {},
   "outputs": [
    {
     "data": {
      "text/plain": [
       "<2700x32738 sparse matrix of type '<class 'numpy.float32'>'\n",
       "\twith 2286884 stored elements in Compressed Sparse Row format>"
      ]
     },
     "execution_count": 3,
     "metadata": {},
     "output_type": "execute_result"
    }
   ],
   "source": [
    "adata.X"
   ]
  },
  {
   "cell_type": "markdown",
   "id": "80a61097-03f7-4169-9126-cc1016355431",
   "metadata": {},
   "source": [
    "Remember that when we execute something that would usually return a value, but don't put that anywhere, the value is printed instead. What we see here is a short description of the `X` slot of our object. We see that it has dimensions $2700 \\times 32738$. Since AnnData lists the observations (cells) first and the variables (genes) second, this means we have 2700 cells and ~33k genes.\n",
    "\n",
    "It also tells us that the format is \"float\" (what does this mean? Why could this be happening?) and that it stores close to 2.3 million elements. How full is this matrix?"
   ]
  },
  {
   "cell_type": "code",
   "execution_count": 4,
   "id": "7b9ea22f-e507-416a-a8bc-371b65a9ae70",
   "metadata": {},
   "outputs": [
    {
     "data": {
      "text/plain": [
       "0.025871894253591363"
      ]
     },
     "execution_count": 4,
     "metadata": {},
     "output_type": "execute_result"
    }
   ],
   "source": [
    "2286884 / (2700*32738)"
   ]
  },
  {
   "cell_type": "markdown",
   "id": "8a5015eb-615a-4cab-a35e-8679edc51a87",
   "metadata": {},
   "source": [
    "it is, in fact, 97.5% empty! We then had a look at the `.obs` slot, to look for saved cell metadata:"
   ]
  },
  {
   "cell_type": "code",
   "execution_count": 5,
   "id": "02f59276-530c-4e51-aee9-d048f8ba1850",
   "metadata": {},
   "outputs": [
    {
     "data": {
      "text/html": [
       "<div>\n",
       "<style scoped>\n",
       "    .dataframe tbody tr th:only-of-type {\n",
       "        vertical-align: middle;\n",
       "    }\n",
       "\n",
       "    .dataframe tbody tr th {\n",
       "        vertical-align: top;\n",
       "    }\n",
       "\n",
       "    .dataframe thead th {\n",
       "        text-align: right;\n",
       "    }\n",
       "</style>\n",
       "<table border=\"1\" class=\"dataframe\">\n",
       "  <thead>\n",
       "    <tr style=\"text-align: right;\">\n",
       "      <th></th>\n",
       "    </tr>\n",
       "    <tr>\n",
       "      <th>index</th>\n",
       "    </tr>\n",
       "  </thead>\n",
       "  <tbody>\n",
       "    <tr>\n",
       "      <th>AAACATACAACCAC-1</th>\n",
       "    </tr>\n",
       "    <tr>\n",
       "      <th>AAACATTGAGCTAC-1</th>\n",
       "    </tr>\n",
       "    <tr>\n",
       "      <th>AAACATTGATCAGC-1</th>\n",
       "    </tr>\n",
       "    <tr>\n",
       "      <th>AAACCGTGCTTCCG-1</th>\n",
       "    </tr>\n",
       "    <tr>\n",
       "      <th>AAACCGTGTATGCG-1</th>\n",
       "    </tr>\n",
       "    <tr>\n",
       "      <th>...</th>\n",
       "    </tr>\n",
       "    <tr>\n",
       "      <th>TTTCGAACTCTCAT-1</th>\n",
       "    </tr>\n",
       "    <tr>\n",
       "      <th>TTTCTACTGAGGCA-1</th>\n",
       "    </tr>\n",
       "    <tr>\n",
       "      <th>TTTCTACTTCCTCG-1</th>\n",
       "    </tr>\n",
       "    <tr>\n",
       "      <th>TTTGCATGAGAGGC-1</th>\n",
       "    </tr>\n",
       "    <tr>\n",
       "      <th>TTTGCATGCCTCAC-1</th>\n",
       "    </tr>\n",
       "  </tbody>\n",
       "</table>\n",
       "<p>2700 rows × 0 columns</p>\n",
       "</div>"
      ],
      "text/plain": [
       "Empty DataFrame\n",
       "Columns: []\n",
       "Index: [AAACATACAACCAC-1, AAACATTGAGCTAC-1, AAACATTGATCAGC-1, AAACCGTGCTTCCG-1, AAACCGTGTATGCG-1, AAACGCACTGGTAC-1, AAACGCTGACCAGT-1, AAACGCTGGTTCTT-1, AAACGCTGTAGCCA-1, AAACGCTGTTTCTG-1, AAACTTGAAAAACG-1, AAACTTGATCCAGA-1, AAAGAGACGAGATA-1, AAAGAGACGCGAGA-1, AAAGAGACGGACTT-1, AAAGAGACGGCATT-1, AAAGATCTGGGCAA-1, AAAGCAGAAGCCAT-1, AAAGCAGATATCGG-1, AAAGCCTGTATGCG-1, AAAGGCCTGTCTAG-1, AAAGTTTGATCACG-1, AAAGTTTGGGGTGA-1, AAAGTTTGTAGAGA-1, AAAGTTTGTAGCGT-1, AAATCAACAATGCC-1, AAATCAACACCAGT-1, AAATCAACCAGGAG-1, AAATCAACCCTATT-1, AAATCAACGGAAGC-1, AAATCAACTCGCAA-1, AAATCATGACCACA-1, AAATCCCTCCACAA-1, AAATCCCTGCTATG-1, AAATGTTGAACGAA-1, AAATGTTGCCACAA-1, AAATGTTGTGGCAT-1, AAATTCGAAGGTTC-1, AAATTCGAATCACG-1, AAATTCGAGCTGAT-1, AAATTCGAGGAGTG-1, AAATTCGATTCTCA-1, AAATTGACACGACT-1, AAATTGACTCGCTC-1, AACAAACTCATTTC-1, AACAAACTTTCGTT-1, AACAATACGACGAG-1, AACACGTGCAGAGG-1, AACACGTGGAAAGT-1, AACACGTGGAACCT-1, AACACGTGGCTACA-1, AACACGTGTACGAC-1, AACAGCACAAGAGT-1, AACATTGATGGGAG-1, AACCAGTGATACCG-1, AACCCAGATCGCTC-1, AACCGATGCTCCCA-1, AACCGATGGTCATG-1, AACCGATGTTCTAC-1, AACCGCCTAGCGTT-1, AACCGCCTCTACGA-1, AACCTACTGTGAGG-1, AACCTACTGTGTTG-1, AACCTTACGAGACG-1, AACCTTACGCGAGA-1, AACCTTACTAACGC-1, AACCTTTGGACGGA-1, AACCTTTGTACGCA-1, AACGCAACAAGTAG-1, AACGCATGACCCAA-1, AACGCATGCCTTCG-1, AACGCATGTACTTC-1, AACGCCCTCGGGAA-1, AACGCCCTCGTACA-1, AACGCCCTGCTTAG-1, AACGCCCTGGCATT-1, AACGTCGAGTATCG-1, AACGTGTGAAAGCA-1, AACGTGTGGCGGAA-1, AACGTGTGTCCAAG-1, AACGTGTGTGCTTT-1, AACTACCTTAGAGA-1, AACTCACTCAAGCT-1, AACTCACTTGGAGG-1, AACTCGGAAAGTGA-1, AACTCGGAAGGTCT-1, AACTCTTGCAGGAG-1, AACTGTCTCCCTTG-1, AACTTGCTACGCTA-1, AACTTGCTGGGACA-1, AAGAACGAGTGTTG-1, AAGAAGACGTAGGG-1, AAGACAGAAGTCTG-1, AAGACAGAGGATCT-1, AAGACAGATTACCT-1, AAGAGATGGGTAGG-1, AAGATGGAAAACAG-1, AAGATGGAGAACTC-1, AAGATGGAGATAAG-1, AAGATTACAACCTG-1, ...]\n",
       "\n",
       "[2700 rows x 0 columns]"
      ]
     },
     "execution_count": 5,
     "metadata": {},
     "output_type": "execute_result"
    }
   ],
   "source": [
    "adata.obs"
   ]
  },
  {
   "cell_type": "markdown",
   "id": "0030ac48-a61b-45a2-b682-1bc9ae3803c8",
   "metadata": {},
   "source": [
    "And then looked at the `.var` slot, that contained gene names as the index and gene IDs as a metadata column. We wondered whether using gene names was a good idea: can they function as identifiers? Are they unique?"
   ]
  },
  {
   "cell_type": "code",
   "execution_count": 6,
   "id": "204e0829-fa4e-468d-849d-8aa3c2e28bd7",
   "metadata": {},
   "outputs": [
    {
     "data": {
      "text/plain": [
       "False"
      ]
     },
     "execution_count": 6,
     "metadata": {},
     "output_type": "execute_result"
    }
   ],
   "source": [
    "any(adata.var.index.duplicated())"
   ]
  },
  {
   "cell_type": "code",
   "execution_count": 7,
   "id": "a4512672-7119-4ffd-8b5d-814a2f8206ed",
   "metadata": {},
   "outputs": [
    {
     "data": {
      "text/plain": [
       "AnnData object with n_obs × n_vars = 2700 × 32738\n",
       "    var: 'gene_ids'"
      ]
     },
     "execution_count": 7,
     "metadata": {},
     "output_type": "execute_result"
    }
   ],
   "source": [
    "adata"
   ]
  },
  {
   "cell_type": "markdown",
   "id": "ba904779-1651-4431-8c96-7df8f319b32a",
   "metadata": {},
   "source": [
    "We'd already thought about possible metadata for each cell that could possibly help us perform quality control. One of these was the total amount of UMIs detected in each cell. How are we calculating it here? (hint: remember the structure of an AnnData object!)"
   ]
  },
  {
   "cell_type": "code",
   "execution_count": 8,
   "id": "791aa243-16f6-409a-ac5d-16f876e93bf4",
   "metadata": {},
   "outputs": [],
   "source": [
    "adata.obs[\"total_reads_per_cell\"] = np.array(np.sum(adata.X, axis=1))[:, 0]"
   ]
  },
  {
   "cell_type": "code",
   "execution_count": 9,
   "id": "afd8d4f2-be4e-49b8-8eab-f2647e70ba89",
   "metadata": {},
   "outputs": [
    {
     "data": {
      "text/plain": [
       "AnnData object with n_obs × n_vars = 2700 × 32738\n",
       "    obs: 'total_reads_per_cell'\n",
       "    var: 'gene_ids'"
      ]
     },
     "execution_count": 9,
     "metadata": {},
     "output_type": "execute_result"
    }
   ],
   "source": [
    "adata"
   ]
  },
  {
   "cell_type": "markdown",
   "id": "a8f98bd9-5fba-4fe4-85c0-9eb401a513d2",
   "metadata": {},
   "source": [
    "we see that the new column was added successfully. Next, we have a look at the distribution of our new quality control metric, using the helpful fact that Pandas dataframes (like the .obs slot) have their own visualisation functions (such as `hist`)."
   ]
  },
  {
   "cell_type": "code",
   "execution_count": 10,
   "id": "b7b67a9b-1a19-49fe-aaf4-7be19b8158f0",
   "metadata": {},
   "outputs": [
    {
     "data": {
      "text/plain": [
       "<Axes: >"
      ]
     },
     "execution_count": 10,
     "metadata": {},
     "output_type": "execute_result"
    },
    {
     "data": {
      "image/png": "[encoded data removed]",
      "text/plain": [
       "<Figure size 640x480 with 1 Axes>"
      ]
     },
     "metadata": {},
     "output_type": "display_data"
    }
   ],
   "source": [
    "adata.obs[\"total_reads_per_cell\"].hist(bins=160)"
   ]
  },
  {
   "cell_type": "markdown",
   "id": "7b865bf0-fd04-4742-8bd3-53df3667316e",
   "metadata": {},
   "source": [
    "What two things did we notice here? What does that let us know/suspect about the nature of the data?\n",
    "\n",
    "Another measure we'd thought of was the number of genes expressed in each cell. We agreed, for now, to consider every gene having at least one (1) count as being expressed. How did we calculate this new metadata column? What property of Python (and other languages) did we make use of?"
   ]
  },
  {
   "cell_type": "code",
   "execution_count": 11,
   "id": "1a1903d3-d528-469d-946a-44a1b796f7b9",
   "metadata": {},
   "outputs": [],
   "source": [
    "adata.obs[\"genes_expressed\"] = np.array(np.sum(adata.X > 0, axis=1))[:, 0]"
   ]
  },
  {
   "cell_type": "code",
   "execution_count": 12,
   "id": "739e58f1-5b7f-42e9-b8ac-fe3976bac35b",
   "metadata": {},
   "outputs": [
    {
     "data": {
      "text/plain": [
       "<Axes: >"
      ]
     },
     "execution_count": 12,
     "metadata": {},
     "output_type": "execute_result"
    },
    {
     "data": {
      "image/png": "[encoded data removed]",
      "text/plain": [
       "<Figure size 640x480 with 1 Axes>"
      ]
     },
     "metadata": {},
     "output_type": "display_data"
    }
   ],
   "source": [
    "adata.obs[\"genes_expressed\"].hist(bins=160)"
   ]
  },
  {
   "cell_type": "markdown",
   "id": "dd1a5f7b-d19c-43c3-8b49-f022a118523e",
   "metadata": {},
   "source": [
    "How is this histogram similar/different from the previous one? What do we notice/what do we suspect?\n",
    "\n",
    "We hypothesised there might be some correlation between these two variables. We looked at it, using the `scatter` function from the Scanpy plotting suite."
   ]
  },
  {
   "cell_type": "code",
   "execution_count": 13,
   "id": "f2c1b3be-8f81-423b-b825-200c87949657",
   "metadata": {},
   "outputs": [
    {
     "data": {
      "image/png": "[encoded data removed]",
      "text/plain": [
       "<Figure size 728.72x480 with 1 Axes>"
      ]
     },
     "metadata": {},
     "output_type": "display_data"
    }
   ],
   "source": [
    "sc.pl.scatter(adata, \"total_reads_per_cell\", \"genes_expressed\")"
   ]
  },
  {
   "cell_type": "markdown",
   "id": "75e04b53-98b4-4571-8013-827f6b786d94",
   "metadata": {},
   "source": [
    "What do we learn from this? Is this expected/unexpected? How does this relate to the biochemistry/capture/sequencing strategy of the single-cell RNA-seq experiments?\n",
    "\n",
    "Afterwards, we started looking at the same ideas (total counts/total cells expressing) but for genes. The histograms looked very, very different here!"
   ]
  },
  {
   "cell_type": "code",
   "execution_count": 14,
   "id": "735d1b10-35d0-4991-987a-6f285acf2b75",
   "metadata": {},
   "outputs": [],
   "source": [
    "adata.var[\"total_reads_per_gene\"] = np.array(np.sum(adata.X, axis=0))[0]"
   ]
  },
  {
   "cell_type": "code",
   "execution_count": 15,
   "id": "a955ba23-2c6c-425d-9938-fe46f5abe1b8",
   "metadata": {},
   "outputs": [
    {
     "data": {
      "text/plain": [
       "<Axes: >"
      ]
     },
     "execution_count": 15,
     "metadata": {},
     "output_type": "execute_result"
    },
    {
     "data": {
      "image/png": "[encoded data removed]",
      "text/plain": [
       "<Figure size 640x480 with 1 Axes>"
      ]
     },
     "metadata": {},
     "output_type": "display_data"
    }
   ],
   "source": [
    "adata.var[\"total_reads_per_gene\"].hist(bins=100)"
   ]
  },
  {
   "cell_type": "markdown",
   "id": "b0d91e7d-3eea-4423-8d98-73e5c15c988b",
   "metadata": {
    "jp-MarkdownHeadingCollapsed": true
   },
   "source": [
    "Why is that? What do we learn from this?\n",
    "\n",
    "# Homework\n",
    "\n",
    "- read the [AnnData tutorial](https://anndata.readthedocs.io/en/latest/tutorials/notebooks/getting-started.html#Initializing-AnnData) - feel free to work through it.\n",
    "- read the ScanPy tutorial where the usual workflow is [walked through](https://scanpy-tutorials.readthedocs.io/en/latest/pbmc3k.html). For those of you that visited the R single-cell course this should be a refresher, but in Python. Try to follow it.\n",
    "- How would you create a new metadata column for each gene that measured how many cells express each gene? What would you expect? Will that correlate with total UMIs per gene?\n",
    "- another useful quality control metric for each gene is its average expression and its variance. Try to calculate those! Why would they be interesting/important?"
   ]
  }
 ],
 "metadata": {
  "kernelspec": {
   "display_name": "Python 3 (ipykernel)",
   "language": "python",
   "name": "python3"
  },
  "language_info": {
   "codemirror_mode": {
    "name": "ipython",
    "version": 3
   },
   "file_extension": ".py",
   "mimetype": "text/x-python",
   "name": "python",
   "nbconvert_exporter": "python",
   "pygments_lexer": "ipython3",
   "version": "3.9.18"
  }
 },
 "nbformat": 4,
 "nbformat_minor": 5
}
