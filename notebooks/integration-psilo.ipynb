{
 "cells": [
  {
   "cell_type": "code",
   "execution_count": 1,
   "id": "976ccd60-71c6-4cf1-a2b6-b535f898a17c",
   "metadata": {},
   "outputs": [
    {
     "name": "stderr",
     "output_type": "stream",
     "text": [
      "/opt/homebrew/Caskroom/miniforge/base/envs/ascc24/lib/python3.9/site-packages/tqdm/auto.py:21: TqdmWarning: IProgress not found. Please update jupyter and ipywidgets. See https://ipywidgets.readthedocs.io/en/stable/user_install.html\n",
      "  from .autonotebook import tqdm as notebook_tqdm\n"
     ]
    }
   ],
   "source": [
    "import scanpy as sc\n",
    "import numpy as np\n",
    "import matplotlib.pyplot as plt"
   ]
  },
  {
   "cell_type": "code",
   "execution_count": 2,
   "id": "a0e646be-62bc-47ba-8992-b74a3d89fb8c",
   "metadata": {},
   "outputs": [],
   "source": [
    "import warnings\n",
    "warnings.simplefilter(action='ignore', category=FutureWarning)\n",
    "\n",
    "# let's silence all the annoying Future warnings from Pandas:\n",
    "import pandas as pd"
   ]
  },
  {
   "cell_type": "code",
   "execution_count": 3,
   "id": "19368bde-3269-4117-ba06-93be9f50fe13",
   "metadata": {},
   "outputs": [],
   "source": [
    "np.random.seed(seed=42)"
   ]
  },
  {
   "cell_type": "code",
   "execution_count": 4,
   "id": "629ef21a-0585-4f12-9a52-3d77b53e48a8",
   "metadata": {},
   "outputs": [],
   "source": [
    "annot = sc.read_h5ad(\"./saline.h5ad\")\n",
    "adata = sc.read_h5ad(\"./psilo_both.h5ad\")"
   ]
  },
  {
   "cell_type": "code",
   "execution_count": 7,
   "id": "942c660e-4719-4bf5-b5ba-fdd082705f72",
   "metadata": {},
   "outputs": [],
   "source": [
    "adata.obs = adata.obs.join(annot.obs[\"annot\"])"
   ]
  },
  {
   "cell_type": "code",
   "execution_count": 9,
   "id": "8b2c2bb2-8f4f-4d0f-948a-44f4d1920b8d",
   "metadata": {},
   "outputs": [],
   "source": [
    "del annot"
   ]
  },
  {
   "cell_type": "code",
   "execution_count": 11,
   "id": "5d65482e-1d74-47c4-a5a8-4ca4f321acf4",
   "metadata": {},
   "outputs": [
    {
     "data": {
      "text/plain": [
       "AnnData object with n_obs × n_vars = 25018 × 25328\n",
       "    obs: 'condition', 'n_genes', 'n_genes_by_counts', 'total_counts', 'total_counts_mt', 'pct_counts_mt', 'annot'\n",
       "    var: 'n_cells', 'mt', 'n_cells_by_counts', 'mean_counts', 'pct_dropout_by_counts', 'total_counts'"
      ]
     },
     "execution_count": 11,
     "metadata": {},
     "output_type": "execute_result"
    }
   ],
   "source": [
    "adata"
   ]
  }
 ],
 "metadata": {
  "kernelspec": {
   "display_name": "Python 3 (ipykernel)",
   "language": "python",
   "name": "python3"
  },
  "language_info": {
   "codemirror_mode": {
    "name": "ipython",
    "version": 3
   },
   "file_extension": ".py",
   "mimetype": "text/x-python",
   "name": "python",
   "nbconvert_exporter": "python",
   "pygments_lexer": "ipython3",
   "version": "3.9.19"
  }
 },
 "nbformat": 4,
 "nbformat_minor": 5
}
