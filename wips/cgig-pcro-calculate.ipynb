{
 "cells": [
  {
   "cell_type": "code",
   "execution_count": 1,
   "id": "38ec5fce",
   "metadata": {},
   "outputs": [
    {
     "name": "stdout",
     "output_type": "stream",
     "text": [
      "## 2023-06-21, 14:31 \n"
     ]
    }
   ],
   "source": [
    "from platython import util as pu\n",
    "\n",
    "pu.timestamp()"
   ]
  },
  {
   "attachments": {},
   "cell_type": "markdown",
   "id": "5087a27a-1dac-4d67-ad90-6b4bcc6bc449",
   "metadata": {
    "tags": []
   },
   "source": [
    "# SAMap comparison calculation\n",
    "\n",
    "Here I will compare _Acanthochitona fascicularis_ whole body data from the larval stage to\n",
    "_Crassostrea gigas_ whole body data."
   ]
  },
  {
   "cell_type": "code",
   "execution_count": 2,
   "id": "7e913239-023f-499c-8751-731ab61a6b20",
   "metadata": {},
   "outputs": [],
   "source": [
    "import pickle\n",
    "\n",
    "import scanpy as sc\n",
    "\n",
    "from samap.mapping import SAMAP\n",
    "from samap.analysis import *\n",
    "from samalg import SAM"
   ]
  },
  {
   "cell_type": "code",
   "execution_count": 3,
   "id": "fd6f050f",
   "metadata": {},
   "outputs": [],
   "source": [
    "base = \"/Users/npapadop/Documents/projects/acanthochitona/2023-04_chiton_wrapup/\""
   ]
  },
  {
   "cell_type": "code",
   "execution_count": 5,
   "id": "354f34ba-4cc2-4b4c-84bb-db661f5fb50a",
   "metadata": {
    "tags": []
   },
   "outputs": [
    {
     "name": "stdout",
     "output_type": "stream",
     "text": [
      "RUNNING SAM\n",
      "Iteration: 0, Convergence: 1.0\n",
      "Iteration: 1, Convergence: 0.8947572547804118\n",
      "Iteration: 2, Convergence: 0.011015371901053915\n",
      "Computing the UMAP embedding...\n"
     ]
    },
    {
     "name": "stderr",
     "output_type": "stream",
     "text": [
      "OMP: Info #276: omp_set_nested routine deprecated, please use omp_set_max_active_levels instead.\n"
     ]
    },
    {
     "name": "stdout",
     "output_type": "stream",
     "text": [
      "Elapsed time: 25.009918928146362 seconds\n",
      "RUNNING SAM\n",
      "Iteration: 0, Convergence: 1.0\n",
      "Iteration: 1, Convergence: 0.8683652930162051\n",
      "Iteration: 2, Convergence: 0.01623999102390318\n",
      "Computing the UMAP embedding...\n",
      "Elapsed time: 17.268633127212524 seconds\n"
     ]
    }
   ],
   "source": [
    "tmp = sc.read(base + \"processed/pcro/counts_and_metadata.h5ad\")\n",
    "pcro = SAM(counts=tmp)\n",
    "pcro.preprocess_data()\n",
    "pcro.run()\n",
    "\n",
    "tmp = sc.read(base + \"processed/cgig/counts_and_metadata.h5ad\")\n",
    "cgig = SAM(counts=tmp)\n",
    "cgig.preprocess_data()\n",
    "cgig.run()"
   ]
  },
  {
   "cell_type": "code",
   "execution_count": 6,
   "id": "46c78e8d-c3e0-4eed-949c-cf26abf51439",
   "metadata": {},
   "outputs": [
    {
     "name": "stdout",
     "output_type": "stream",
     "text": [
      "Not updating the manifold...\n",
      "Not updating the manifold...\n",
      "20283 `pcro` gene symbols match between the datasets and the BLAST graph.\n",
      "14468 `cgig` gene symbols match between the datasets and the BLAST graph.\n"
     ]
    }
   ],
   "source": [
    "sams = {\"pcro\": pcro, \"cgig\": cgig}\n",
    "maps = \"/Users/npapadop/Documents/teaching/2023/advanced_scRNAseq/data/samap_starter_pack/\"\n",
    "\n",
    "sm = SAMAP(\n",
    "        sams,\n",
    "        f_maps = maps,\n",
    "    )"
   ]
  },
  {
   "cell_type": "code",
   "execution_count": 7,
   "id": "431462d7-88fa-4bd8-a2b8-7633bb681f34",
   "metadata": {},
   "outputs": [
    {
     "name": "stdout",
     "output_type": "stream",
     "text": [
      "Prepping datasets for translation.\n",
      "Translating feature spaces pairwise.\n",
      "Projecting data into joint latent space. 3.2649967670440674\n",
      "Correcting data with means. 4.038878917694092\n",
      "Expanding neighbourhoods of species pcro...\n",
      "Expanding neighbourhoods of species cgig...\n",
      "Indegree coarsening\n",
      "0/1 (0, 17848)\n",
      "Rescaling edge weights by expression correlations.\n",
      "Concatenating SAM objects...\n",
      "Iteration 1 complete.\n",
      "Alignment scores:\n",
      "          cgig      pcro\n",
      "cgig  0.000000  0.551031\n",
      "pcro  0.455679  0.000000\n",
      "Calculating gene-gene correlations in the homology graph...\n",
      "Prepping datasets for translation.\n",
      "Translating feature spaces pairwise.\n",
      "Projecting data into joint latent space. 2.9682459831237793\n",
      "Correcting data with means. 3.970944881439209\n",
      "Expanding neighbourhoods of species pcro...\n",
      "Expanding neighbourhoods of species cgig...\n",
      "Indegree coarsening\n",
      "0/1 (0, 17848)\n",
      "Rescaling edge weights by expression correlations.\n",
      "Concatenating SAM objects...\n",
      "Iteration 2 complete.\n",
      "Alignment scores:\n",
      "          cgig      pcro\n",
      "cgig  0.000000  0.645845\n",
      "pcro  0.545108  0.000000\n",
      "Calculating gene-gene correlations in the homology graph...\n",
      "Prepping datasets for translation.\n",
      "Translating feature spaces pairwise.\n",
      "Projecting data into joint latent space. 2.778604030609131\n",
      "Correcting data with means. 3.871350049972534\n",
      "Expanding neighbourhoods of species pcro...\n",
      "Expanding neighbourhoods of species cgig...\n",
      "Indegree coarsening\n",
      "0/1 (0, 17848)\n",
      "Rescaling edge weights by expression correlations.\n",
      "Concatenating SAM objects...\n",
      "Iteration 3 complete.\n",
      "Alignment scores:\n",
      "          cgig      pcro\n",
      "cgig  0.000000  0.658563\n",
      "pcro  0.572501  0.000000\n",
      "Running UMAP on the stitched manifolds.\n",
      "Elapsed time: 1.981178597609202 minutes.\n"
     ]
    },
    {
     "data": {
      "text/plain": [
       "<samalg.SAM at 0x16a750ac0>"
      ]
     },
     "execution_count": 7,
     "metadata": {},
     "output_type": "execute_result"
    }
   ],
   "source": [
    "sm.run(pairwise=True, ncpus=6, N_GENE_CHUNKS=2)"
   ]
  },
  {
   "attachments": {},
   "cell_type": "markdown",
   "id": "e39cd649-376a-4025-994c-765f2b57fa5b",
   "metadata": {},
   "source": [
    "Save object"
   ]
  },
  {
   "cell_type": "code",
   "execution_count": 8,
   "id": "b77f8f61-b6d5-47d7-abe7-271fad0c7abb",
   "metadata": {},
   "outputs": [],
   "source": [
    "with open(\"./pcro_cgig.pkl\", \"wb\") as f:\n",
    "    pickle.dump(sm, f)"
   ]
  },
  {
   "cell_type": "code",
   "execution_count": 9,
   "id": "4998705b-76c8-46c8-90f4-087038b11237",
   "metadata": {},
   "outputs": [
    {
     "name": "stdout",
     "output_type": "stream",
     "text": [
      "## 2023-06-21, 14:35 \n"
     ]
    }
   ],
   "source": [
    "pu.timestamp()"
   ]
  }
 ],
 "metadata": {
  "kernelspec": {
   "display_name": "Python 3 (ipykernel)",
   "language": "python",
   "name": "python3"
  },
  "language_info": {
   "codemirror_mode": {
    "name": "ipython",
    "version": 3
   },
   "file_extension": ".py",
   "mimetype": "text/x-python",
   "name": "python",
   "nbconvert_exporter": "python",
   "pygments_lexer": "ipython3",
   "version": "3.9.16"
  }
 },
 "nbformat": 4,
 "nbformat_minor": 5
}
