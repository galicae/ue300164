{
 "cells": [
  {
   "cell_type": "code",
   "execution_count": null,
   "id": "b843bf3b",
   "metadata": {},
   "outputs": [],
   "source": [
    "from platython import util as pu\n",
    "import pandas as pd\n",
    "\n",
    "pu.timestamp()"
   ]
  },
  {
   "attachments": {},
   "cell_type": "markdown",
   "id": "459110c2-68ff-44cd-b408-eaf20108995c",
   "metadata": {},
   "source": [
    "# SAMap preparation\n",
    "\n",
    "SAMap requires a sequence alignment in BLAST format between the two species to be compared. The IDs in this file must correspond with the index column of the `.var` slot of the single-cell objects. We should have one isoform per gene. This means that we only need to harmonize the gene names between the alignment file and the lookup that SAMap needs."
   ]
  },
  {
   "cell_type": "code",
   "execution_count": null,
   "id": "0ac65c95-d882-490c-aafa-452b59fa1884",
   "metadata": {
    "tags": []
   },
   "outputs": [],
   "source": [
    "%%bash --out ./mmseqs.out --err ./mmseqs.err\n",
    "base=\"/Users/npapadop/Documents/projects/acanthochitona/2023-04_chiton_wrapup\"\n",
    "cgig=\"raw/cgig/Crassostrea_gigas_longest_pep_noprotid.fa\"\n",
    "pcro=\"raw/pcro/Pcro_longest_prot_no_t.aa\"\n",
    "out_dir=\"/Users/npapadop/Documents/teaching/2023/advanced_scRNAseq/data/aln/m8/\"\n",
    "\n",
    "mkdir -p ${out_dir}\n",
    "cd ${out_dir}\n",
    "mmseqs easy-search $base/$cgig $base/$pcro cgig_pcro.m8 tmp\n",
    "mmseqs easy-search $base/$pcro $base/$cgig pcro_cgig.m8 tmp"
   ]
  },
  {
   "cell_type": "code",
   "execution_count": null,
   "id": "332c9585-8a28-492b-a5e3-629d0f918547",
   "metadata": {},
   "outputs": [],
   "source": [
    "pu.timestamp()"
   ]
  },
  {
   "attachments": {},
   "cell_type": "markdown",
   "id": "f52171dd-1499-4093-83c1-50a941432c95",
   "metadata": {},
   "source": [
    "Do the forward comparison (query: chiton - target: platy), and remember that SAMap expects no headers to be present."
   ]
  },
  {
   "cell_type": "code",
   "execution_count": null,
   "id": "14e699c7",
   "metadata": {},
   "outputs": [],
   "source": [
    "base = \"/Users/npapadop/Documents/teaching/2023/advanced_scRNAseq/data/\""
   ]
  },
  {
   "cell_type": "code",
   "execution_count": null,
   "id": "6d1825d3-63b2-4bbf-b658-5cbd0d212328",
   "metadata": {},
   "outputs": [],
   "source": [
    "alignment = pd.read_csv(base + \"aln/m8/pcro_cgig.m8\", sep=\"\\t\", header=None)\n",
    "# official column names:\n",
    "alignment.columns = [\"query\", \"target\", \"seq_id\", \"ali_len\", \"no_mism\", \"no_go\", \"q_start\", \"t_start\", \"q_end\", \"t_end\", \"eval\", \"bit\"]\n",
    "# remove low quality hits, since we aren\"t keeping those anyway\n",
    "alignment = alignment[alignment[\"eval\"] < 1e-6]\n",
    "# Chiton gene names are protein IDs that keep track of isoform.\n",
    "# Trim the last part of the name, which is in the form \"seqX.pX\"\n",
    "# Chiton names also come with an \"afas_\" prepended\n",
    "alignment[\"query\"] = \"pcro_\" + alignment[\"query\"].str.split(\"|\").str[0]\n",
    "# Crassostrea names are well-behaved!\n",
    "alignment[\"target\"] = \"cgig_\" + alignment[\"target\"].str.split(\"|\").str[0]\n",
    "\n",
    "alignment = alignment.sort_values(\"eval\").drop_duplicates([\"query\", \"target\"])\n",
    "alignment.to_csv(base + \"pcrozieri_to_cgigas.txt\", sep=\"\\t\", index=None, header=False)"
   ]
  },
  {
   "cell_type": "code",
   "execution_count": null,
   "id": "4a0fd82c-8f16-4eb6-bce8-2373c02b1901",
   "metadata": {},
   "outputs": [],
   "source": [
    "alignment = pd.read_csv(base + \"aln/m8/cgig_pcro.m8\", sep=\"\\t\", header=None)\n",
    "# official column names:\n",
    "alignment.columns = [\"query\", \"target\", \"seq_id\", \"ali_len\", \"no_mism\", \"no_go\", \"q_start\", \"t_start\", \"q_end\", \"t_end\", \"eval\", \"bit\"]\n",
    "# remove low quality hits, since we aren\"t keeping those anyway\n",
    "alignment = alignment[alignment[\"eval\"] < 1e-6]\n",
    "# Chiton gene names are protein IDs that keep track of isoform.\n",
    "# Trim the last part of the name, which is in the form \"seqX.pX\"\n",
    "alignment[\"target\"] = \"pcro_\" + alignment[\"target\"].str.split(\"|\").str[0]\n",
    "# Crassostrea names are well-behaved!\n",
    "alignment[\"query\"] = \"cgig_\" + alignment[\"query\"].str.split(\"|\").str[0]\n",
    "\n",
    "alignment = alignment.sort_values(\"eval\").drop_duplicates([\"query\", \"target\"])\n",
    "\n",
    "alignment.to_csv(base + \"cgigas_to_pcrozieri.txt\", sep=\"\\t\", index=None, header=False)"
   ]
  },
  {
   "cell_type": "code",
   "execution_count": null,
   "id": "eaeed4c7-ac44-4557-bb47-b2266eb623e1",
   "metadata": {},
   "outputs": [],
   "source": [
    "pu.timestamp()"
   ]
  },
  {
   "cell_type": "code",
   "execution_count": null,
   "id": "bcdc2c31",
   "metadata": {},
   "outputs": [],
   "source": [
    "!mmseqs | grep Version"
   ]
  }
 ],
 "metadata": {
  "kernelspec": {
   "display_name": "Python 3 (ipykernel)",
   "language": "python",
   "name": "python3"
  },
  "language_info": {
   "codemirror_mode": {
    "name": "ipython",
    "version": 3
   },
   "file_extension": ".py",
   "mimetype": "text/x-python",
   "name": "python",
   "nbconvert_exporter": "python",
   "pygments_lexer": "ipython3",
   "version": "3.10.9"
  }
 },
 "nbformat": 4,
 "nbformat_minor": 5
}
